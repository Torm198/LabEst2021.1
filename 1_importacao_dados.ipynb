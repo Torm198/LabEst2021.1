{
 "cells": [
  {
   "cell_type": "code",
   "execution_count": 25,
   "source": [
    "import pandas as pd\r\n",
    "import numpy as np\r\n",
    "import seaborn as sns\r\n",
    "import matplotlib.pyplot as plt"
   ],
   "outputs": [],
   "metadata": {
    "collapsed": false,
    "jupyter": {
     "outputs_hidden": false
    },
    "pycharm": {
     "name": "#%%\n"
    }
   }
  },
  {
   "cell_type": "markdown",
   "source": [
    "# Importando o Banco de Dados"
   ],
   "metadata": {}
  },
  {
   "cell_type": "code",
   "execution_count": 77,
   "source": [
    "dados = pd.read_excel('Dados\\default of credit card clients.xls', header =1)"
   ],
   "outputs": [],
   "metadata": {
    "collapsed": false,
    "jupyter": {
     "outputs_hidden": false
    },
    "pycharm": {
     "name": "#%%\n"
    }
   }
  },
  {
   "cell_type": "markdown",
   "source": [
    "# Dados pessoais\r\n",
    "\r\n",
    "O banco de dados consiste em 24 variaveis no total, as primeiras 6 variaveis aopresentam informações sobre as informações pessoais dos clientes.\r\n",
    "\r\n",
    "Estão codificadas da seguinte maneira:\r\n",
    "\r\n",
    "1. ID: Código de cada cliente, variavel catégorica nominal;\r\n",
    "2. LIMIT_BAL: Quantidade de crédito disponivel em novos dolarés Taiwaneses, variavel numerica;\r\n",
    "3. SEX: Indicando o gênero em 1 para homem e 2 para mulheres, variavel catégorica nominal;\r\n",
    "4. EDUCATION: Representando o nivel educacional em numeros de 1 a 6 começando com pós-graduação, nivel superior, nivel médio e outros, respectivamente, variavel categórica ordinal;\r\n",
    "5. MARRIAGE: Apresentando estado civil com 1 para casado, 2 para solteiro e 3 para outros, variavel categórica nominal;\r\n",
    "6. AGE: Idade em anos e numeros inteiros, variavel numerica."
   ],
   "metadata": {}
  },
  {
   "cell_type": "code",
   "execution_count": 78,
   "source": [
    "dados.loc[0:6,\"ID\":\"AGE\"]"
   ],
   "outputs": [
    {
     "output_type": "execute_result",
     "data": {
      "text/html": [
       "<div>\n",
       "<style scoped>\n",
       "    .dataframe tbody tr th:only-of-type {\n",
       "        vertical-align: middle;\n",
       "    }\n",
       "\n",
       "    .dataframe tbody tr th {\n",
       "        vertical-align: top;\n",
       "    }\n",
       "\n",
       "    .dataframe thead th {\n",
       "        text-align: right;\n",
       "    }\n",
       "</style>\n",
       "<table border=\"1\" class=\"dataframe\">\n",
       "  <thead>\n",
       "    <tr style=\"text-align: right;\">\n",
       "      <th></th>\n",
       "      <th>ID</th>\n",
       "      <th>LIMIT_BAL</th>\n",
       "      <th>SEX</th>\n",
       "      <th>EDUCATION</th>\n",
       "      <th>MARRIAGE</th>\n",
       "      <th>AGE</th>\n",
       "    </tr>\n",
       "  </thead>\n",
       "  <tbody>\n",
       "    <tr>\n",
       "      <th>0</th>\n",
       "      <td>1</td>\n",
       "      <td>20000</td>\n",
       "      <td>2</td>\n",
       "      <td>2</td>\n",
       "      <td>1</td>\n",
       "      <td>24</td>\n",
       "    </tr>\n",
       "    <tr>\n",
       "      <th>1</th>\n",
       "      <td>2</td>\n",
       "      <td>120000</td>\n",
       "      <td>2</td>\n",
       "      <td>2</td>\n",
       "      <td>2</td>\n",
       "      <td>26</td>\n",
       "    </tr>\n",
       "    <tr>\n",
       "      <th>2</th>\n",
       "      <td>3</td>\n",
       "      <td>90000</td>\n",
       "      <td>2</td>\n",
       "      <td>2</td>\n",
       "      <td>2</td>\n",
       "      <td>34</td>\n",
       "    </tr>\n",
       "    <tr>\n",
       "      <th>3</th>\n",
       "      <td>4</td>\n",
       "      <td>50000</td>\n",
       "      <td>2</td>\n",
       "      <td>2</td>\n",
       "      <td>1</td>\n",
       "      <td>37</td>\n",
       "    </tr>\n",
       "    <tr>\n",
       "      <th>4</th>\n",
       "      <td>5</td>\n",
       "      <td>50000</td>\n",
       "      <td>1</td>\n",
       "      <td>2</td>\n",
       "      <td>1</td>\n",
       "      <td>57</td>\n",
       "    </tr>\n",
       "    <tr>\n",
       "      <th>5</th>\n",
       "      <td>6</td>\n",
       "      <td>50000</td>\n",
       "      <td>1</td>\n",
       "      <td>1</td>\n",
       "      <td>2</td>\n",
       "      <td>37</td>\n",
       "    </tr>\n",
       "    <tr>\n",
       "      <th>6</th>\n",
       "      <td>7</td>\n",
       "      <td>500000</td>\n",
       "      <td>1</td>\n",
       "      <td>1</td>\n",
       "      <td>2</td>\n",
       "      <td>29</td>\n",
       "    </tr>\n",
       "  </tbody>\n",
       "</table>\n",
       "</div>"
      ],
      "text/plain": [
       "   ID  LIMIT_BAL  SEX  EDUCATION  MARRIAGE  AGE\n",
       "0   1      20000    2          2         1   24\n",
       "1   2     120000    2          2         2   26\n",
       "2   3      90000    2          2         2   34\n",
       "3   4      50000    2          2         1   37\n",
       "4   5      50000    1          2         1   57\n",
       "5   6      50000    1          1         2   37\n",
       "6   7     500000    1          1         2   29"
      ]
     },
     "metadata": {},
     "execution_count": 78
    }
   ],
   "metadata": {}
  },
  {
   "cell_type": "code",
   "execution_count": 79,
   "source": [
    "\r\n",
    "print(\"Distibuição de gênero\\n\",dados[\"SEX\"].value_counts(normalize = True))\r\n",
    "\r\n",
    "print(\"Distibuição de Educação\\n\",dados[\"EDUCATION\"].value_counts(normalize = True))\r\n",
    "\r\n",
    "print(\"Distibuição de Casamento\\n\",dados[\"MARRIAGE\"].value_counts(normalize = True))\r\n",
    "\r\n"
   ],
   "outputs": [
    {
     "output_type": "stream",
     "name": "stdout",
     "text": [
      "Distibuição de gênero\n",
      " 2    0.603733\n",
      "1    0.396267\n",
      "Name: SEX, dtype: float64\n",
      "Distibuição de Educação\n",
      " 2    0.467667\n",
      "1    0.352833\n",
      "3    0.163900\n",
      "5    0.009333\n",
      "4    0.004100\n",
      "6    0.001700\n",
      "0    0.000467\n",
      "Name: EDUCATION, dtype: float64\n",
      "Distibuição de Casamento\n",
      " 2    0.532133\n",
      "1    0.455300\n",
      "3    0.010767\n",
      "0    0.001800\n",
      "Name: MARRIAGE, dtype: float64\n"
     ]
    }
   ],
   "metadata": {}
  },
  {
   "cell_type": "markdown",
   "source": [
    "Aterando linhas onde a variavel de casamento está com valor 0 e incluir no grupo outros com valor 3, juntamente com nivel educaional com valores 0, 5, 6 no grupo outros com valor 4"
   ],
   "metadata": {}
  },
  {
   "cell_type": "code",
   "execution_count": 89,
   "source": [
    "dados.loc[dados['MARRIAGE'] == 0, 'MARRIAGE'] = 3\r\n",
    "\r\n",
    "dados.loc[dados['EDUCATION'] == 0, 'EDUCATION'] = 4\r\n",
    "dados.loc[dados['EDUCATION'] == 5, 'EDUCATION'] = 4\r\n",
    "dados.loc[dados['EDUCATION'] == 6, 'EDUCATION'] = 4\r\n",
    "\r\n",
    "print(\"Distibuição de Educação\\n\",dados[\"EDUCATION\"].value_counts(normalize = True))\r\n",
    "\r\n",
    "print(\"Distibuição de Casamento\\n\",dados[\"MARRIAGE\"].value_counts(normalize = True))\r\n"
   ],
   "outputs": [
    {
     "output_type": "stream",
     "name": "stdout",
     "text": [
      "Distibuição de Educação\n",
      " 2    0.467667\n",
      "1    0.352833\n",
      "3    0.163900\n",
      "4    0.015600\n",
      "Name: EDUCATION, dtype: float64\n",
      "Distibuição de Casamento\n",
      " 2    0.532133\n",
      "1    0.455300\n",
      "3    0.012567\n",
      "Name: MARRIAGE, dtype: float64\n"
     ]
    }
   ],
   "metadata": {}
  },
  {
   "cell_type": "code",
   "execution_count": 90,
   "source": [
    "\r\n",
    "pd.crosstab(columns = dados['default payment next month'],index= dados['MARRIAGE'], margins = 1)"
   ],
   "outputs": [
    {
     "output_type": "execute_result",
     "data": {
      "text/html": [
       "<div>\n",
       "<style scoped>\n",
       "    .dataframe tbody tr th:only-of-type {\n",
       "        vertical-align: middle;\n",
       "    }\n",
       "\n",
       "    .dataframe tbody tr th {\n",
       "        vertical-align: top;\n",
       "    }\n",
       "\n",
       "    .dataframe thead th {\n",
       "        text-align: right;\n",
       "    }\n",
       "</style>\n",
       "<table border=\"1\" class=\"dataframe\">\n",
       "  <thead>\n",
       "    <tr style=\"text-align: right;\">\n",
       "      <th>default payment next month</th>\n",
       "      <th>0</th>\n",
       "      <th>1</th>\n",
       "      <th>All</th>\n",
       "    </tr>\n",
       "    <tr>\n",
       "      <th>MARRIAGE</th>\n",
       "      <th></th>\n",
       "      <th></th>\n",
       "      <th></th>\n",
       "    </tr>\n",
       "  </thead>\n",
       "  <tbody>\n",
       "    <tr>\n",
       "      <th>1</th>\n",
       "      <td>10453</td>\n",
       "      <td>3206</td>\n",
       "      <td>13659</td>\n",
       "    </tr>\n",
       "    <tr>\n",
       "      <th>2</th>\n",
       "      <td>12623</td>\n",
       "      <td>3341</td>\n",
       "      <td>15964</td>\n",
       "    </tr>\n",
       "    <tr>\n",
       "      <th>3</th>\n",
       "      <td>288</td>\n",
       "      <td>89</td>\n",
       "      <td>377</td>\n",
       "    </tr>\n",
       "    <tr>\n",
       "      <th>All</th>\n",
       "      <td>23364</td>\n",
       "      <td>6636</td>\n",
       "      <td>30000</td>\n",
       "    </tr>\n",
       "  </tbody>\n",
       "</table>\n",
       "</div>"
      ],
      "text/plain": [
       "default payment next month      0     1    All\n",
       "MARRIAGE                                      \n",
       "1                           10453  3206  13659\n",
       "2                           12623  3341  15964\n",
       "3                             288    89    377\n",
       "All                         23364  6636  30000"
      ]
     },
     "metadata": {},
     "execution_count": 90
    }
   ],
   "metadata": {}
  },
  {
   "cell_type": "code",
   "execution_count": 91,
   "source": [
    "pd.crosstab(columns = dados['default payment next month'],index= dados['EDUCATION'], margins = 1)"
   ],
   "outputs": [
    {
     "output_type": "execute_result",
     "data": {
      "text/html": [
       "<div>\n",
       "<style scoped>\n",
       "    .dataframe tbody tr th:only-of-type {\n",
       "        vertical-align: middle;\n",
       "    }\n",
       "\n",
       "    .dataframe tbody tr th {\n",
       "        vertical-align: top;\n",
       "    }\n",
       "\n",
       "    .dataframe thead th {\n",
       "        text-align: right;\n",
       "    }\n",
       "</style>\n",
       "<table border=\"1\" class=\"dataframe\">\n",
       "  <thead>\n",
       "    <tr style=\"text-align: right;\">\n",
       "      <th>default payment next month</th>\n",
       "      <th>0</th>\n",
       "      <th>1</th>\n",
       "      <th>All</th>\n",
       "    </tr>\n",
       "    <tr>\n",
       "      <th>EDUCATION</th>\n",
       "      <th></th>\n",
       "      <th></th>\n",
       "      <th></th>\n",
       "    </tr>\n",
       "  </thead>\n",
       "  <tbody>\n",
       "    <tr>\n",
       "      <th>1</th>\n",
       "      <td>8549</td>\n",
       "      <td>2036</td>\n",
       "      <td>10585</td>\n",
       "    </tr>\n",
       "    <tr>\n",
       "      <th>2</th>\n",
       "      <td>10700</td>\n",
       "      <td>3330</td>\n",
       "      <td>14030</td>\n",
       "    </tr>\n",
       "    <tr>\n",
       "      <th>3</th>\n",
       "      <td>3680</td>\n",
       "      <td>1237</td>\n",
       "      <td>4917</td>\n",
       "    </tr>\n",
       "    <tr>\n",
       "      <th>4</th>\n",
       "      <td>435</td>\n",
       "      <td>33</td>\n",
       "      <td>468</td>\n",
       "    </tr>\n",
       "    <tr>\n",
       "      <th>All</th>\n",
       "      <td>23364</td>\n",
       "      <td>6636</td>\n",
       "      <td>30000</td>\n",
       "    </tr>\n",
       "  </tbody>\n",
       "</table>\n",
       "</div>"
      ],
      "text/plain": [
       "default payment next month      0     1    All\n",
       "EDUCATION                                     \n",
       "1                            8549  2036  10585\n",
       "2                           10700  3330  14030\n",
       "3                            3680  1237   4917\n",
       "4                             435    33    468\n",
       "All                         23364  6636  30000"
      ]
     },
     "metadata": {},
     "execution_count": 91
    }
   ],
   "metadata": {}
  },
  {
   "cell_type": "code",
   "execution_count": 71,
   "source": [
    "print(\"Média de pagamentos: \",dados[\"default payment next month\"].mean()*100,\"% \\n\")\r\n"
   ],
   "outputs": [
    {
     "output_type": "stream",
     "name": "stdout",
     "text": [
      "Média de pagamentos:  22.12 % \n",
      "\n",
      "Pessoas que pagaram vs. pessoas inadimplentes:\n",
      " 0    0.7788\n",
      "1    0.2212\n",
      "Name: default payment next month, dtype: float64\n"
     ]
    }
   ],
   "metadata": {}
  },
  {
   "cell_type": "code",
   "execution_count": 74,
   "source": [
    "casamento_pagamento = sns.countplot(x = \"default payment next month\",  \r\n",
    "              hue = \"MARRIAGE\",\r\n",
    "              dodge = 1,\r\n",
    "              data = dados)\r\n",
    "casamento_pagamento.set_title('Não pagamento separado por casamento')\r\n",
    "casamento_pagamento.set_xticklabels([\"Pagou\",\"Não Pagou\"])\r\n",
    "casamento_pagamento.set_xlabel('Não pagamento mês seguinte')\r\n",
    "casamento_pagamento.set_ylabel('Frequência')"
   ],
   "outputs": [
    {
     "output_type": "execute_result",
     "data": {
      "text/plain": [
       "Text(0, 0.5, 'Frequência')"
      ]
     },
     "metadata": {},
     "execution_count": 74
    },
    {
     "output_type": "display_data",
     "data": {
      "image/png": "[encoded data removed]",
      "text/plain": [
       "<Figure size 432x288 with 1 Axes>"
      ]
     },
     "metadata": {
      "needs_background": "light"
     }
    }
   ],
   "metadata": {}
  }
 ],
 "metadata": {
  "kernelspec": {
   "name": "python3",
   "display_name": "Python 3.8.8 64-bit ('base': conda)"
  },
  "language_info": {
   "codemirror_mode": {
    "name": "ipython",
    "version": 3
   },
   "file_extension": ".py",
   "mimetype": "text/x-python",
   "name": "python",
   "nbconvert_exporter": "python",
   "pygments_lexer": "ipython3",
   "version": "3.8.8"
  },
  "interpreter": {
   "hash": "622be5046a7514208b31c5ff270f0a4cea8aaf7bb018599c2e4329f73ecf086c"
  }
 },
 "nbformat": 4,
 "nbformat_minor": 4
}