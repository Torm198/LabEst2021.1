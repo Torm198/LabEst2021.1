{
 "cells": [
  {
   "cell_type": "code",
   "execution_count": 88,
   "metadata": {
    "collapsed": true
   },
   "outputs": [],
   "source": [
    "import pandas as pd\n",
    "import numpy as np\n",
    "import matplotlib.pyplot as plt\n",
    "from sklearn.linear_model import LogisticRegression,SGDClassifier\n",
    "from sklearn.ensemble import RandomForestClassifier, AdaBoostClassifier\n",
    "from sklearn.discriminant_analysis import QuadraticDiscriminantAnalysis\n",
    "from sklearn.naive_bayes import GaussianNB\n",
    "from sklearn.neural_network import MLPClassifier\n",
    "from sklearn import tree\n",
    "from sklearn.model_selection import train_test_split,cross_val_score\n",
    "from sklearn.metrics import roc_curve, confusion_matrix, classification_report\n",
    "from sklearn.neural_network import MLPClassifier\n",
    "from sklearn.model_selection import cross_val_score, cross_validate"
   ]
  },
  {
   "cell_type": "markdown",
   "metadata": {
    "collapsed": false
   },
   "source": [
    "Preparando banco para modelagem"
   ]
  },
  {
   "cell_type": "code",
   "execution_count": 89,
   "metadata": {
    "collapsed": false,
    "pycharm": {
     "name": "#%%\n"
    }
   },
   "outputs": [],
   "source": [
    "# Importando\n",
    "banco = pd.read_excel(\"Dados\\default of credit card clients.xls\",header=1)\n",
    "\n",
    "# Mudando o tipo das variáveis que são categóricas\n",
    "banco.SEX = banco.SEX.astype(\"category\")\n",
    "banco.EDUCATION = banco.EDUCATION.astype(\"category\")\n",
    "banco.MARRIAGE = banco.MARRIAGE.astype(\"category\")\n",
    "banco.PAY_0 = banco.PAY_0.astype(\"category\")\n",
    "banco.PAY_2 = banco.PAY_2.astype(\"category\")\n",
    "banco.PAY_3 = banco.PAY_3.astype(\"category\")\n",
    "banco.PAY_4 = banco.PAY_4.astype(\"category\")\n",
    "banco.PAY_5 = banco.PAY_5.astype(\"category\")\n",
    "banco.PAY_6 = banco.PAY_6.astype(\"category\")\n",
    "\n",
    "# Separando a variável resposta\n",
    "X=banco.loc[:, 'LIMIT_BAL':'PAY_AMT6']\n",
    "y=banco[\"default payment next month\"]"
   ]
  },
  {
   "cell_type": "markdown",
   "metadata": {
    "collapsed": false,
    "pycharm": {
     "name": "#%% md\n"
    }
   },
   "source": [
    "Calculando correlação"
   ]
  },
  {
   "cell_type": "code",
   "execution_count": 90,
   "metadata": {
    "collapsed": false,
    "pycharm": {
     "name": "#%%\n"
    }
   },
   "outputs": [
    {
     "data": {
      "text/html": [
       "<style type=\"text/css\">\n",
       "#T_1b94e_row0_col0, #T_1b94e_row1_col1, #T_1b94e_row2_col2, #T_1b94e_row3_col3, #T_1b94e_row4_col4, #T_1b94e_row5_col5, #T_1b94e_row6_col6, #T_1b94e_row7_col7, #T_1b94e_row8_col8, #T_1b94e_row9_col9, #T_1b94e_row10_col10, #T_1b94e_row11_col11, #T_1b94e_row12_col12, #T_1b94e_row13_col13 {\n",
       "  background-color: #b40426;\n",
       "  color: #f1f1f1;\n",
       "}\n",
       "#T_1b94e_row0_col1, #T_1b94e_row3_col10, #T_1b94e_row3_col11, #T_1b94e_row8_col12, #T_1b94e_row12_col8, #T_1b94e_row13_col3 {\n",
       "  background-color: #6282ea;\n",
       "  color: #f1f1f1;\n",
       "}\n",
       "#T_1b94e_row0_col2, #T_1b94e_row0_col4 {\n",
       "  background-color: #8badfd;\n",
       "  color: #000000;\n",
       "}\n",
       "#T_1b94e_row0_col3 {\n",
       "  background-color: #88abfd;\n",
       "  color: #000000;\n",
       "}\n",
       "#T_1b94e_row0_col5, #T_1b94e_row0_col7, #T_1b94e_row11_col6 {\n",
       "  background-color: #8fb1fe;\n",
       "  color: #000000;\n",
       "}\n",
       "#T_1b94e_row0_col6, #T_1b94e_row3_col8 {\n",
       "  background-color: #90b2fe;\n",
       "  color: #000000;\n",
       "}\n",
       "#T_1b94e_row0_col8, #T_1b94e_row5_col0 {\n",
       "  background-color: #7295f4;\n",
       "  color: #f1f1f1;\n",
       "}\n",
       "#T_1b94e_row0_col9, #T_1b94e_row3_col13, #T_1b94e_row8_col7 {\n",
       "  background-color: #6c8ff1;\n",
       "  color: #f1f1f1;\n",
       "}\n",
       "#T_1b94e_row0_col10, #T_1b94e_row0_col11 {\n",
       "  background-color: #7699f6;\n",
       "  color: #f1f1f1;\n",
       "}\n",
       "#T_1b94e_row0_col12, #T_1b94e_row6_col8, #T_1b94e_row10_col7, #T_1b94e_row10_col11 {\n",
       "  background-color: #7a9df8;\n",
       "  color: #f1f1f1;\n",
       "}\n",
       "#T_1b94e_row0_col13 {\n",
       "  background-color: #7da0f9;\n",
       "  color: #f1f1f1;\n",
       "}\n",
       "#T_1b94e_row1_col0, #T_1b94e_row1_col2, #T_1b94e_row1_col3, #T_1b94e_row1_col4, #T_1b94e_row1_col5, #T_1b94e_row1_col6, #T_1b94e_row1_col7, #T_1b94e_row1_col8, #T_1b94e_row1_col9, #T_1b94e_row1_col10, #T_1b94e_row1_col11, #T_1b94e_row1_col12, #T_1b94e_row1_col13, #T_1b94e_row9_col1, #T_1b94e_row11_col1, #T_1b94e_row12_col1, #T_1b94e_row13_col1 {\n",
       "  background-color: #3b4cc0;\n",
       "  color: #f1f1f1;\n",
       "}\n",
       "#T_1b94e_row2_col0, #T_1b94e_row4_col13, #T_1b94e_row9_col5 {\n",
       "  background-color: #6f92f3;\n",
       "  color: #f1f1f1;\n",
       "}\n",
       "#T_1b94e_row2_col1, #T_1b94e_row3_col1 {\n",
       "  background-color: #455cce;\n",
       "  color: #f1f1f1;\n",
       "}\n",
       "#T_1b94e_row2_col3, #T_1b94e_row3_col2 {\n",
       "  background-color: #c73635;\n",
       "  color: #f1f1f1;\n",
       "}\n",
       "#T_1b94e_row2_col4, #T_1b94e_row3_col5, #T_1b94e_row4_col2, #T_1b94e_row5_col3 {\n",
       "  background-color: #da5a49;\n",
       "  color: #f1f1f1;\n",
       "}\n",
       "#T_1b94e_row2_col5, #T_1b94e_row3_col6, #T_1b94e_row5_col2, #T_1b94e_row6_col3 {\n",
       "  background-color: #e36b54;\n",
       "  color: #f1f1f1;\n",
       "}\n",
       "#T_1b94e_row2_col6, #T_1b94e_row3_col7, #T_1b94e_row7_col3 {\n",
       "  background-color: #e97a5f;\n",
       "  color: #f1f1f1;\n",
       "}\n",
       "#T_1b94e_row2_col7, #T_1b94e_row7_col2 {\n",
       "  background-color: #ef886b;\n",
       "  color: #f1f1f1;\n",
       "}\n",
       "#T_1b94e_row2_col8, #T_1b94e_row12_col2, #T_1b94e_row13_col6 {\n",
       "  background-color: #5f7fe8;\n",
       "  color: #f1f1f1;\n",
       "}\n",
       "#T_1b94e_row2_col9, #T_1b94e_row3_col9, #T_1b94e_row10_col4 {\n",
       "  background-color: #536edd;\n",
       "  color: #f1f1f1;\n",
       "}\n",
       "#T_1b94e_row2_col10, #T_1b94e_row9_col7, #T_1b94e_row11_col12, #T_1b94e_row13_col2 {\n",
       "  background-color: #6384eb;\n",
       "  color: #f1f1f1;\n",
       "}\n",
       "#T_1b94e_row2_col11, #T_1b94e_row3_col12, #T_1b94e_row9_col6, #T_1b94e_row10_col12, #T_1b94e_row12_col13, #T_1b94e_row13_col9, #T_1b94e_row13_col10, #T_1b94e_row13_col11 {\n",
       "  background-color: #6687ed;\n",
       "  color: #f1f1f1;\n",
       "}\n",
       "#T_1b94e_row2_col12, #T_1b94e_row6_col13, #T_1b94e_row10_col13 {\n",
       "  background-color: #688aef;\n",
       "  color: #f1f1f1;\n",
       "}\n",
       "#T_1b94e_row2_col13, #T_1b94e_row4_col0, #T_1b94e_row4_col12, #T_1b94e_row5_col13, #T_1b94e_row6_col9, #T_1b94e_row9_col11, #T_1b94e_row9_col12, #T_1b94e_row11_col9, #T_1b94e_row12_col9, #T_1b94e_row13_col8 {\n",
       "  background-color: #6e90f2;\n",
       "  color: #f1f1f1;\n",
       "}\n",
       "#T_1b94e_row3_col0, #T_1b94e_row7_col9 {\n",
       "  background-color: #6b8df0;\n",
       "  color: #f1f1f1;\n",
       "}\n",
       "#T_1b94e_row3_col4, #T_1b94e_row4_col3 {\n",
       "  background-color: #cf453c;\n",
       "  color: #f1f1f1;\n",
       "}\n",
       "#T_1b94e_row4_col1, #T_1b94e_row5_col1 {\n",
       "  background-color: #445acc;\n",
       "  color: #f1f1f1;\n",
       "}\n",
       "#T_1b94e_row4_col5, #T_1b94e_row5_col4 {\n",
       "  background-color: #d0473d;\n",
       "  color: #f1f1f1;\n",
       "}\n",
       "#T_1b94e_row4_col6, #T_1b94e_row6_col4 {\n",
       "  background-color: #dd5f4b;\n",
       "  color: #f1f1f1;\n",
       "}\n",
       "#T_1b94e_row4_col7, #T_1b94e_row7_col4 {\n",
       "  background-color: #e46e56;\n",
       "  color: #f1f1f1;\n",
       "}\n",
       "#T_1b94e_row4_col8 {\n",
       "  background-color: #84a7fc;\n",
       "  color: #f1f1f1;\n",
       "}\n",
       "#T_1b94e_row4_col9 {\n",
       "  background-color: #9fbfff;\n",
       "  color: #000000;\n",
       "}\n",
       "#T_1b94e_row4_col10, #T_1b94e_row10_col3 {\n",
       "  background-color: #5a78e4;\n",
       "  color: #f1f1f1;\n",
       "}\n",
       "#T_1b94e_row4_col11, #T_1b94e_row6_col12 {\n",
       "  background-color: #6180e9;\n",
       "  color: #f1f1f1;\n",
       "}\n",
       "#T_1b94e_row5_col6, #T_1b94e_row6_col5 {\n",
       "  background-color: #cb3e38;\n",
       "  color: #f1f1f1;\n",
       "}\n",
       "#T_1b94e_row5_col7, #T_1b94e_row7_col5 {\n",
       "  background-color: #d75445;\n",
       "  color: #f1f1f1;\n",
       "}\n",
       "#T_1b94e_row5_col8, #T_1b94e_row10_col6, #T_1b94e_row11_col7 {\n",
       "  background-color: #80a3fa;\n",
       "  color: #f1f1f1;\n",
       "}\n",
       "#T_1b94e_row5_col9 {\n",
       "  background-color: #779af7;\n",
       "  color: #f1f1f1;\n",
       "}\n",
       "#T_1b94e_row5_col10, #T_1b94e_row6_col11, #T_1b94e_row9_col4 {\n",
       "  background-color: #97b8ff;\n",
       "  color: #000000;\n",
       "}\n",
       "#T_1b94e_row5_col11, #T_1b94e_row12_col3 {\n",
       "  background-color: #5d7ce6;\n",
       "  color: #f1f1f1;\n",
       "}\n",
       "#T_1b94e_row5_col12, #T_1b94e_row9_col13, #T_1b94e_row11_col13 {\n",
       "  background-color: #6788ee;\n",
       "  color: #f1f1f1;\n",
       "}\n",
       "#T_1b94e_row6_col0, #T_1b94e_row7_col8, #T_1b94e_row8_col6, #T_1b94e_row11_col8 {\n",
       "  background-color: #7396f5;\n",
       "  color: #f1f1f1;\n",
       "}\n",
       "#T_1b94e_row6_col1, #T_1b94e_row7_col1 {\n",
       "  background-color: #4358cb;\n",
       "  color: #f1f1f1;\n",
       "}\n",
       "#T_1b94e_row6_col2 {\n",
       "  background-color: #ea7b60;\n",
       "  color: #f1f1f1;\n",
       "}\n",
       "#T_1b94e_row6_col7, #T_1b94e_row7_col6 {\n",
       "  background-color: #c83836;\n",
       "  color: #f1f1f1;\n",
       "}\n",
       "#T_1b94e_row6_col10, #T_1b94e_row8_col10, #T_1b94e_row10_col9 {\n",
       "  background-color: #85a8fc;\n",
       "  color: #f1f1f1;\n",
       "}\n",
       "#T_1b94e_row7_col0, #T_1b94e_row8_col13 {\n",
       "  background-color: #7093f3;\n",
       "  color: #f1f1f1;\n",
       "}\n",
       "#T_1b94e_row7_col10 {\n",
       "  background-color: #7ea1fa;\n",
       "  color: #f1f1f1;\n",
       "}\n",
       "#T_1b94e_row7_col11, #T_1b94e_row10_col8 {\n",
       "  background-color: #86a9fc;\n",
       "  color: #f1f1f1;\n",
       "}\n",
       "#T_1b94e_row7_col12 {\n",
       "  background-color: #9bbcff;\n",
       "  color: #000000;\n",
       "}\n",
       "#T_1b94e_row7_col13, #T_1b94e_row11_col3 {\n",
       "  background-color: #5977e3;\n",
       "  color: #f1f1f1;\n",
       "}\n",
       "#T_1b94e_row8_col0 {\n",
       "  background-color: #4c66d6;\n",
       "  color: #f1f1f1;\n",
       "}\n",
       "#T_1b94e_row8_col1 {\n",
       "  background-color: #3c4ec2;\n",
       "  color: #f1f1f1;\n",
       "}\n",
       "#T_1b94e_row8_col2, #T_1b94e_row13_col0 {\n",
       "  background-color: #5572df;\n",
       "  color: #f1f1f1;\n",
       "}\n",
       "#T_1b94e_row8_col3 {\n",
       "  background-color: #89acfd;\n",
       "  color: #000000;\n",
       "}\n",
       "#T_1b94e_row8_col4 {\n",
       "  background-color: #7b9ff9;\n",
       "  color: #f1f1f1;\n",
       "}\n",
       "#T_1b94e_row8_col5, #T_1b94e_row11_col10 {\n",
       "  background-color: #799cf8;\n",
       "  color: #f1f1f1;\n",
       "}\n",
       "#T_1b94e_row8_col9, #T_1b94e_row12_col7 {\n",
       "  background-color: #94b6ff;\n",
       "  color: #000000;\n",
       "}\n",
       "#T_1b94e_row8_col11 {\n",
       "  background-color: #7597f6;\n",
       "  color: #f1f1f1;\n",
       "}\n",
       "#T_1b94e_row9_col0 {\n",
       "  background-color: #465ecf;\n",
       "  color: #f1f1f1;\n",
       "}\n",
       "#T_1b94e_row9_col2 {\n",
       "  background-color: #485fd1;\n",
       "  color: #f1f1f1;\n",
       "}\n",
       "#T_1b94e_row9_col3 {\n",
       "  background-color: #4961d2;\n",
       "  color: #f1f1f1;\n",
       "}\n",
       "#T_1b94e_row9_col8 {\n",
       "  background-color: #93b5fe;\n",
       "  color: #000000;\n",
       "}\n",
       "#T_1b94e_row9_col10 {\n",
       "  background-color: #82a6fb;\n",
       "  color: #f1f1f1;\n",
       "}\n",
       "#T_1b94e_row10_col0 {\n",
       "  background-color: #516ddb;\n",
       "  color: #f1f1f1;\n",
       "}\n",
       "#T_1b94e_row10_col1 {\n",
       "  background-color: #3d50c3;\n",
       "  color: #f1f1f1;\n",
       "}\n",
       "#T_1b94e_row10_col2, #T_1b94e_row11_col2 {\n",
       "  background-color: #5b7ae5;\n",
       "  color: #f1f1f1;\n",
       "}\n",
       "#T_1b94e_row10_col5 {\n",
       "  background-color: #92b4fe;\n",
       "  color: #000000;\n",
       "}\n",
       "#T_1b94e_row11_col0 {\n",
       "  background-color: #4f69d9;\n",
       "  color: #f1f1f1;\n",
       "}\n",
       "#T_1b94e_row11_col4, #T_1b94e_row12_col6 {\n",
       "  background-color: #5875e1;\n",
       "  color: #f1f1f1;\n",
       "}\n",
       "#T_1b94e_row11_col5, #T_1b94e_row12_col0 {\n",
       "  background-color: #5470de;\n",
       "  color: #f1f1f1;\n",
       "}\n",
       "#T_1b94e_row12_col4, #T_1b94e_row12_col10, #T_1b94e_row12_col11, #T_1b94e_row13_col4, #T_1b94e_row13_col5, #T_1b94e_row13_col12 {\n",
       "  background-color: #6485ec;\n",
       "  color: #f1f1f1;\n",
       "}\n",
       "#T_1b94e_row12_col5 {\n",
       "  background-color: #5e7de7;\n",
       "  color: #f1f1f1;\n",
       "}\n",
       "#T_1b94e_row13_col7 {\n",
       "  background-color: #506bda;\n",
       "  color: #f1f1f1;\n",
       "}\n",
       "</style>\n",
       "<table id=\"T_1b94e_\">\n",
       "  <thead>\n",
       "    <tr>\n",
       "      <th class=\"blank level0\" >&nbsp;</th>\n",
       "      <th class=\"col_heading level0 col0\" >LIMIT_BAL</th>\n",
       "      <th class=\"col_heading level0 col1\" >AGE</th>\n",
       "      <th class=\"col_heading level0 col2\" >BILL_AMT1</th>\n",
       "      <th class=\"col_heading level0 col3\" >BILL_AMT2</th>\n",
       "      <th class=\"col_heading level0 col4\" >BILL_AMT3</th>\n",
       "      <th class=\"col_heading level0 col5\" >BILL_AMT4</th>\n",
       "      <th class=\"col_heading level0 col6\" >BILL_AMT5</th>\n",
       "      <th class=\"col_heading level0 col7\" >BILL_AMT6</th>\n",
       "      <th class=\"col_heading level0 col8\" >PAY_AMT1</th>\n",
       "      <th class=\"col_heading level0 col9\" >PAY_AMT2</th>\n",
       "      <th class=\"col_heading level0 col10\" >PAY_AMT3</th>\n",
       "      <th class=\"col_heading level0 col11\" >PAY_AMT4</th>\n",
       "      <th class=\"col_heading level0 col12\" >PAY_AMT5</th>\n",
       "      <th class=\"col_heading level0 col13\" >PAY_AMT6</th>\n",
       "    </tr>\n",
       "  </thead>\n",
       "  <tbody>\n",
       "    <tr>\n",
       "      <th id=\"T_1b94e_level0_row0\" class=\"row_heading level0 row0\" >LIMIT_BAL</th>\n",
       "      <td id=\"T_1b94e_row0_col0\" class=\"data row0 col0\" >1.000000</td>\n",
       "      <td id=\"T_1b94e_row0_col1\" class=\"data row0 col1\" >0.144713</td>\n",
       "      <td id=\"T_1b94e_row0_col2\" class=\"data row0 col2\" >0.285430</td>\n",
       "      <td id=\"T_1b94e_row0_col3\" class=\"data row0 col3\" >0.278314</td>\n",
       "      <td id=\"T_1b94e_row0_col4\" class=\"data row0 col4\" >0.283236</td>\n",
       "      <td id=\"T_1b94e_row0_col5\" class=\"data row0 col5\" >0.293988</td>\n",
       "      <td id=\"T_1b94e_row0_col6\" class=\"data row0 col6\" >0.295562</td>\n",
       "      <td id=\"T_1b94e_row0_col7\" class=\"data row0 col7\" >0.290389</td>\n",
       "      <td id=\"T_1b94e_row0_col8\" class=\"data row0 col8\" >0.195236</td>\n",
       "      <td id=\"T_1b94e_row0_col9\" class=\"data row0 col9\" >0.178408</td>\n",
       "      <td id=\"T_1b94e_row0_col10\" class=\"data row0 col10\" >0.210167</td>\n",
       "      <td id=\"T_1b94e_row0_col11\" class=\"data row0 col11\" >0.203242</td>\n",
       "      <td id=\"T_1b94e_row0_col12\" class=\"data row0 col12\" >0.217202</td>\n",
       "      <td id=\"T_1b94e_row0_col13\" class=\"data row0 col13\" >0.219595</td>\n",
       "    </tr>\n",
       "    <tr>\n",
       "      <th id=\"T_1b94e_level0_row1\" class=\"row_heading level0 row1\" >AGE</th>\n",
       "      <td id=\"T_1b94e_row1_col0\" class=\"data row1 col0\" >0.144713</td>\n",
       "      <td id=\"T_1b94e_row1_col1\" class=\"data row1 col1\" >1.000000</td>\n",
       "      <td id=\"T_1b94e_row1_col2\" class=\"data row1 col2\" >0.056239</td>\n",
       "      <td id=\"T_1b94e_row1_col3\" class=\"data row1 col3\" >0.054283</td>\n",
       "      <td id=\"T_1b94e_row1_col4\" class=\"data row1 col4\" >0.053710</td>\n",
       "      <td id=\"T_1b94e_row1_col5\" class=\"data row1 col5\" >0.051353</td>\n",
       "      <td id=\"T_1b94e_row1_col6\" class=\"data row1 col6\" >0.049345</td>\n",
       "      <td id=\"T_1b94e_row1_col7\" class=\"data row1 col7\" >0.047613</td>\n",
       "      <td id=\"T_1b94e_row1_col8\" class=\"data row1 col8\" >0.026147</td>\n",
       "      <td id=\"T_1b94e_row1_col9\" class=\"data row1 col9\" >0.021785</td>\n",
       "      <td id=\"T_1b94e_row1_col10\" class=\"data row1 col10\" >0.029247</td>\n",
       "      <td id=\"T_1b94e_row1_col11\" class=\"data row1 col11\" >0.021379</td>\n",
       "      <td id=\"T_1b94e_row1_col12\" class=\"data row1 col12\" >0.022850</td>\n",
       "      <td id=\"T_1b94e_row1_col13\" class=\"data row1 col13\" >0.019478</td>\n",
       "    </tr>\n",
       "    <tr>\n",
       "      <th id=\"T_1b94e_level0_row2\" class=\"row_heading level0 row2\" >BILL_AMT1</th>\n",
       "      <td id=\"T_1b94e_row2_col0\" class=\"data row2 col0\" >0.285430</td>\n",
       "      <td id=\"T_1b94e_row2_col1\" class=\"data row2 col1\" >0.056239</td>\n",
       "      <td id=\"T_1b94e_row2_col2\" class=\"data row2 col2\" >1.000000</td>\n",
       "      <td id=\"T_1b94e_row2_col3\" class=\"data row2 col3\" >0.951484</td>\n",
       "      <td id=\"T_1b94e_row2_col4\" class=\"data row2 col4\" >0.892279</td>\n",
       "      <td id=\"T_1b94e_row2_col5\" class=\"data row2 col5\" >0.860272</td>\n",
       "      <td id=\"T_1b94e_row2_col6\" class=\"data row2 col6\" >0.829779</td>\n",
       "      <td id=\"T_1b94e_row2_col7\" class=\"data row2 col7\" >0.802650</td>\n",
       "      <td id=\"T_1b94e_row2_col8\" class=\"data row2 col8\" >0.140277</td>\n",
       "      <td id=\"T_1b94e_row2_col9\" class=\"data row2 col9\" >0.099355</td>\n",
       "      <td id=\"T_1b94e_row2_col10\" class=\"data row2 col10\" >0.156887</td>\n",
       "      <td id=\"T_1b94e_row2_col11\" class=\"data row2 col11\" >0.158303</td>\n",
       "      <td id=\"T_1b94e_row2_col12\" class=\"data row2 col12\" >0.167026</td>\n",
       "      <td id=\"T_1b94e_row2_col13\" class=\"data row2 col13\" >0.179341</td>\n",
       "    </tr>\n",
       "    <tr>\n",
       "      <th id=\"T_1b94e_level0_row3\" class=\"row_heading level0 row3\" >BILL_AMT2</th>\n",
       "      <td id=\"T_1b94e_row3_col0\" class=\"data row3 col0\" >0.278314</td>\n",
       "      <td id=\"T_1b94e_row3_col1\" class=\"data row3 col1\" >0.054283</td>\n",
       "      <td id=\"T_1b94e_row3_col2\" class=\"data row3 col2\" >0.951484</td>\n",
       "      <td id=\"T_1b94e_row3_col3\" class=\"data row3 col3\" >1.000000</td>\n",
       "      <td id=\"T_1b94e_row3_col4\" class=\"data row3 col4\" >0.928326</td>\n",
       "      <td id=\"T_1b94e_row3_col5\" class=\"data row3 col5\" >0.892482</td>\n",
       "      <td id=\"T_1b94e_row3_col6\" class=\"data row3 col6\" >0.859778</td>\n",
       "      <td id=\"T_1b94e_row3_col7\" class=\"data row3 col7\" >0.831594</td>\n",
       "      <td id=\"T_1b94e_row3_col8\" class=\"data row3 col8\" >0.280365</td>\n",
       "      <td id=\"T_1b94e_row3_col9\" class=\"data row3 col9\" >0.100851</td>\n",
       "      <td id=\"T_1b94e_row3_col10\" class=\"data row3 col10\" >0.150718</td>\n",
       "      <td id=\"T_1b94e_row3_col11\" class=\"data row3 col11\" >0.147398</td>\n",
       "      <td id=\"T_1b94e_row3_col12\" class=\"data row3 col12\" >0.157957</td>\n",
       "      <td id=\"T_1b94e_row3_col13\" class=\"data row3 col13\" >0.174256</td>\n",
       "    </tr>\n",
       "    <tr>\n",
       "      <th id=\"T_1b94e_level0_row4\" class=\"row_heading level0 row4\" >BILL_AMT3</th>\n",
       "      <td id=\"T_1b94e_row4_col0\" class=\"data row4 col0\" >0.283236</td>\n",
       "      <td id=\"T_1b94e_row4_col1\" class=\"data row4 col1\" >0.053710</td>\n",
       "      <td id=\"T_1b94e_row4_col2\" class=\"data row4 col2\" >0.892279</td>\n",
       "      <td id=\"T_1b94e_row4_col3\" class=\"data row4 col3\" >0.928326</td>\n",
       "      <td id=\"T_1b94e_row4_col4\" class=\"data row4 col4\" >1.000000</td>\n",
       "      <td id=\"T_1b94e_row4_col5\" class=\"data row4 col5\" >0.923969</td>\n",
       "      <td id=\"T_1b94e_row4_col6\" class=\"data row4 col6\" >0.883910</td>\n",
       "      <td id=\"T_1b94e_row4_col7\" class=\"data row4 col7\" >0.853320</td>\n",
       "      <td id=\"T_1b94e_row4_col8\" class=\"data row4 col8\" >0.244335</td>\n",
       "      <td id=\"T_1b94e_row4_col9\" class=\"data row4 col9\" >0.316936</td>\n",
       "      <td id=\"T_1b94e_row4_col10\" class=\"data row4 col10\" >0.130011</td>\n",
       "      <td id=\"T_1b94e_row4_col11\" class=\"data row4 col11\" >0.143405</td>\n",
       "      <td id=\"T_1b94e_row4_col12\" class=\"data row4 col12\" >0.179712</td>\n",
       "      <td id=\"T_1b94e_row4_col13\" class=\"data row4 col13\" >0.182326</td>\n",
       "    </tr>\n",
       "    <tr>\n",
       "      <th id=\"T_1b94e_level0_row5\" class=\"row_heading level0 row5\" >BILL_AMT4</th>\n",
       "      <td id=\"T_1b94e_row5_col0\" class=\"data row5 col0\" >0.293988</td>\n",
       "      <td id=\"T_1b94e_row5_col1\" class=\"data row5 col1\" >0.051353</td>\n",
       "      <td id=\"T_1b94e_row5_col2\" class=\"data row5 col2\" >0.860272</td>\n",
       "      <td id=\"T_1b94e_row5_col3\" class=\"data row5 col3\" >0.892482</td>\n",
       "      <td id=\"T_1b94e_row5_col4\" class=\"data row5 col4\" >0.923969</td>\n",
       "      <td id=\"T_1b94e_row5_col5\" class=\"data row5 col5\" >1.000000</td>\n",
       "      <td id=\"T_1b94e_row5_col6\" class=\"data row5 col6\" >0.940134</td>\n",
       "      <td id=\"T_1b94e_row5_col7\" class=\"data row5 col7\" >0.900941</td>\n",
       "      <td id=\"T_1b94e_row5_col8\" class=\"data row5 col8\" >0.233012</td>\n",
       "      <td id=\"T_1b94e_row5_col9\" class=\"data row5 col9\" >0.207564</td>\n",
       "      <td id=\"T_1b94e_row5_col10\" class=\"data row5 col10\" >0.300023</td>\n",
       "      <td id=\"T_1b94e_row5_col11\" class=\"data row5 col11\" >0.130191</td>\n",
       "      <td id=\"T_1b94e_row5_col12\" class=\"data row5 col12\" >0.160433</td>\n",
       "      <td id=\"T_1b94e_row5_col13\" class=\"data row5 col13\" >0.177637</td>\n",
       "    </tr>\n",
       "    <tr>\n",
       "      <th id=\"T_1b94e_level0_row6\" class=\"row_heading level0 row6\" >BILL_AMT5</th>\n",
       "      <td id=\"T_1b94e_row6_col0\" class=\"data row6 col0\" >0.295562</td>\n",
       "      <td id=\"T_1b94e_row6_col1\" class=\"data row6 col1\" >0.049345</td>\n",
       "      <td id=\"T_1b94e_row6_col2\" class=\"data row6 col2\" >0.829779</td>\n",
       "      <td id=\"T_1b94e_row6_col3\" class=\"data row6 col3\" >0.859778</td>\n",
       "      <td id=\"T_1b94e_row6_col4\" class=\"data row6 col4\" >0.883910</td>\n",
       "      <td id=\"T_1b94e_row6_col5\" class=\"data row6 col5\" >0.940134</td>\n",
       "      <td id=\"T_1b94e_row6_col6\" class=\"data row6 col6\" >1.000000</td>\n",
       "      <td id=\"T_1b94e_row6_col7\" class=\"data row6 col7\" >0.946197</td>\n",
       "      <td id=\"T_1b94e_row6_col8\" class=\"data row6 col8\" >0.217031</td>\n",
       "      <td id=\"T_1b94e_row6_col9\" class=\"data row6 col9\" >0.181246</td>\n",
       "      <td id=\"T_1b94e_row6_col10\" class=\"data row6 col10\" >0.252305</td>\n",
       "      <td id=\"T_1b94e_row6_col11\" class=\"data row6 col11\" >0.293118</td>\n",
       "      <td id=\"T_1b94e_row6_col12\" class=\"data row6 col12\" >0.141574</td>\n",
       "      <td id=\"T_1b94e_row6_col13\" class=\"data row6 col13\" >0.164184</td>\n",
       "    </tr>\n",
       "    <tr>\n",
       "      <th id=\"T_1b94e_level0_row7\" class=\"row_heading level0 row7\" >BILL_AMT6</th>\n",
       "      <td id=\"T_1b94e_row7_col0\" class=\"data row7 col0\" >0.290389</td>\n",
       "      <td id=\"T_1b94e_row7_col1\" class=\"data row7 col1\" >0.047613</td>\n",
       "      <td id=\"T_1b94e_row7_col2\" class=\"data row7 col2\" >0.802650</td>\n",
       "      <td id=\"T_1b94e_row7_col3\" class=\"data row7 col3\" >0.831594</td>\n",
       "      <td id=\"T_1b94e_row7_col4\" class=\"data row7 col4\" >0.853320</td>\n",
       "      <td id=\"T_1b94e_row7_col5\" class=\"data row7 col5\" >0.900941</td>\n",
       "      <td id=\"T_1b94e_row7_col6\" class=\"data row7 col6\" >0.946197</td>\n",
       "      <td id=\"T_1b94e_row7_col7\" class=\"data row7 col7\" >1.000000</td>\n",
       "      <td id=\"T_1b94e_row7_col8\" class=\"data row7 col8\" >0.199965</td>\n",
       "      <td id=\"T_1b94e_row7_col9\" class=\"data row7 col9\" >0.172663</td>\n",
       "      <td id=\"T_1b94e_row7_col10\" class=\"data row7 col10\" >0.233770</td>\n",
       "      <td id=\"T_1b94e_row7_col11\" class=\"data row7 col11\" >0.250237</td>\n",
       "      <td id=\"T_1b94e_row7_col12\" class=\"data row7 col12\" >0.307729</td>\n",
       "      <td id=\"T_1b94e_row7_col13\" class=\"data row7 col13\" >0.115494</td>\n",
       "    </tr>\n",
       "    <tr>\n",
       "      <th id=\"T_1b94e_level0_row8\" class=\"row_heading level0 row8\" >PAY_AMT1</th>\n",
       "      <td id=\"T_1b94e_row8_col0\" class=\"data row8 col0\" >0.195236</td>\n",
       "      <td id=\"T_1b94e_row8_col1\" class=\"data row8 col1\" >0.026147</td>\n",
       "      <td id=\"T_1b94e_row8_col2\" class=\"data row8 col2\" >0.140277</td>\n",
       "      <td id=\"T_1b94e_row8_col3\" class=\"data row8 col3\" >0.280365</td>\n",
       "      <td id=\"T_1b94e_row8_col4\" class=\"data row8 col4\" >0.244335</td>\n",
       "      <td id=\"T_1b94e_row8_col5\" class=\"data row8 col5\" >0.233012</td>\n",
       "      <td id=\"T_1b94e_row8_col6\" class=\"data row8 col6\" >0.217031</td>\n",
       "      <td id=\"T_1b94e_row8_col7\" class=\"data row8 col7\" >0.199965</td>\n",
       "      <td id=\"T_1b94e_row8_col8\" class=\"data row8 col8\" >1.000000</td>\n",
       "      <td id=\"T_1b94e_row8_col9\" class=\"data row8 col9\" >0.285576</td>\n",
       "      <td id=\"T_1b94e_row8_col10\" class=\"data row8 col10\" >0.252191</td>\n",
       "      <td id=\"T_1b94e_row8_col11\" class=\"data row8 col11\" >0.199558</td>\n",
       "      <td id=\"T_1b94e_row8_col12\" class=\"data row8 col12\" >0.148459</td>\n",
       "      <td id=\"T_1b94e_row8_col13\" class=\"data row8 col13\" >0.185735</td>\n",
       "    </tr>\n",
       "    <tr>\n",
       "      <th id=\"T_1b94e_level0_row9\" class=\"row_heading level0 row9\" >PAY_AMT2</th>\n",
       "      <td id=\"T_1b94e_row9_col0\" class=\"data row9 col0\" >0.178408</td>\n",
       "      <td id=\"T_1b94e_row9_col1\" class=\"data row9 col1\" >0.021785</td>\n",
       "      <td id=\"T_1b94e_row9_col2\" class=\"data row9 col2\" >0.099355</td>\n",
       "      <td id=\"T_1b94e_row9_col3\" class=\"data row9 col3\" >0.100851</td>\n",
       "      <td id=\"T_1b94e_row9_col4\" class=\"data row9 col4\" >0.316936</td>\n",
       "      <td id=\"T_1b94e_row9_col5\" class=\"data row9 col5\" >0.207564</td>\n",
       "      <td id=\"T_1b94e_row9_col6\" class=\"data row9 col6\" >0.181246</td>\n",
       "      <td id=\"T_1b94e_row9_col7\" class=\"data row9 col7\" >0.172663</td>\n",
       "      <td id=\"T_1b94e_row9_col8\" class=\"data row9 col8\" >0.285576</td>\n",
       "      <td id=\"T_1b94e_row9_col9\" class=\"data row9 col9\" >1.000000</td>\n",
       "      <td id=\"T_1b94e_row9_col10\" class=\"data row9 col10\" >0.244770</td>\n",
       "      <td id=\"T_1b94e_row9_col11\" class=\"data row9 col11\" >0.180107</td>\n",
       "      <td id=\"T_1b94e_row9_col12\" class=\"data row9 col12\" >0.180908</td>\n",
       "      <td id=\"T_1b94e_row9_col13\" class=\"data row9 col13\" >0.157634</td>\n",
       "    </tr>\n",
       "    <tr>\n",
       "      <th id=\"T_1b94e_level0_row10\" class=\"row_heading level0 row10\" >PAY_AMT3</th>\n",
       "      <td id=\"T_1b94e_row10_col0\" class=\"data row10 col0\" >0.210167</td>\n",
       "      <td id=\"T_1b94e_row10_col1\" class=\"data row10 col1\" >0.029247</td>\n",
       "      <td id=\"T_1b94e_row10_col2\" class=\"data row10 col2\" >0.156887</td>\n",
       "      <td id=\"T_1b94e_row10_col3\" class=\"data row10 col3\" >0.150718</td>\n",
       "      <td id=\"T_1b94e_row10_col4\" class=\"data row10 col4\" >0.130011</td>\n",
       "      <td id=\"T_1b94e_row10_col5\" class=\"data row10 col5\" >0.300023</td>\n",
       "      <td id=\"T_1b94e_row10_col6\" class=\"data row10 col6\" >0.252305</td>\n",
       "      <td id=\"T_1b94e_row10_col7\" class=\"data row10 col7\" >0.233770</td>\n",
       "      <td id=\"T_1b94e_row10_col8\" class=\"data row10 col8\" >0.252191</td>\n",
       "      <td id=\"T_1b94e_row10_col9\" class=\"data row10 col9\" >0.244770</td>\n",
       "      <td id=\"T_1b94e_row10_col10\" class=\"data row10 col10\" >1.000000</td>\n",
       "      <td id=\"T_1b94e_row10_col11\" class=\"data row10 col11\" >0.216325</td>\n",
       "      <td id=\"T_1b94e_row10_col12\" class=\"data row10 col12\" >0.159214</td>\n",
       "      <td id=\"T_1b94e_row10_col13\" class=\"data row10 col13\" >0.162740</td>\n",
       "    </tr>\n",
       "    <tr>\n",
       "      <th id=\"T_1b94e_level0_row11\" class=\"row_heading level0 row11\" >PAY_AMT4</th>\n",
       "      <td id=\"T_1b94e_row11_col0\" class=\"data row11 col0\" >0.203242</td>\n",
       "      <td id=\"T_1b94e_row11_col1\" class=\"data row11 col1\" >0.021379</td>\n",
       "      <td id=\"T_1b94e_row11_col2\" class=\"data row11 col2\" >0.158303</td>\n",
       "      <td id=\"T_1b94e_row11_col3\" class=\"data row11 col3\" >0.147398</td>\n",
       "      <td id=\"T_1b94e_row11_col4\" class=\"data row11 col4\" >0.143405</td>\n",
       "      <td id=\"T_1b94e_row11_col5\" class=\"data row11 col5\" >0.130191</td>\n",
       "      <td id=\"T_1b94e_row11_col6\" class=\"data row11 col6\" >0.293118</td>\n",
       "      <td id=\"T_1b94e_row11_col7\" class=\"data row11 col7\" >0.250237</td>\n",
       "      <td id=\"T_1b94e_row11_col8\" class=\"data row11 col8\" >0.199558</td>\n",
       "      <td id=\"T_1b94e_row11_col9\" class=\"data row11 col9\" >0.180107</td>\n",
       "      <td id=\"T_1b94e_row11_col10\" class=\"data row11 col10\" >0.216325</td>\n",
       "      <td id=\"T_1b94e_row11_col11\" class=\"data row11 col11\" >1.000000</td>\n",
       "      <td id=\"T_1b94e_row11_col12\" class=\"data row11 col12\" >0.151830</td>\n",
       "      <td id=\"T_1b94e_row11_col13\" class=\"data row11 col13\" >0.157834</td>\n",
       "    </tr>\n",
       "    <tr>\n",
       "      <th id=\"T_1b94e_level0_row12\" class=\"row_heading level0 row12\" >PAY_AMT5</th>\n",
       "      <td id=\"T_1b94e_row12_col0\" class=\"data row12 col0\" >0.217202</td>\n",
       "      <td id=\"T_1b94e_row12_col1\" class=\"data row12 col1\" >0.022850</td>\n",
       "      <td id=\"T_1b94e_row12_col2\" class=\"data row12 col2\" >0.167026</td>\n",
       "      <td id=\"T_1b94e_row12_col3\" class=\"data row12 col3\" >0.157957</td>\n",
       "      <td id=\"T_1b94e_row12_col4\" class=\"data row12 col4\" >0.179712</td>\n",
       "      <td id=\"T_1b94e_row12_col5\" class=\"data row12 col5\" >0.160433</td>\n",
       "      <td id=\"T_1b94e_row12_col6\" class=\"data row12 col6\" >0.141574</td>\n",
       "      <td id=\"T_1b94e_row12_col7\" class=\"data row12 col7\" >0.307729</td>\n",
       "      <td id=\"T_1b94e_row12_col8\" class=\"data row12 col8\" >0.148459</td>\n",
       "      <td id=\"T_1b94e_row12_col9\" class=\"data row12 col9\" >0.180908</td>\n",
       "      <td id=\"T_1b94e_row12_col10\" class=\"data row12 col10\" >0.159214</td>\n",
       "      <td id=\"T_1b94e_row12_col11\" class=\"data row12 col11\" >0.151830</td>\n",
       "      <td id=\"T_1b94e_row12_col12\" class=\"data row12 col12\" >1.000000</td>\n",
       "      <td id=\"T_1b94e_row12_col13\" class=\"data row12 col13\" >0.154896</td>\n",
       "    </tr>\n",
       "    <tr>\n",
       "      <th id=\"T_1b94e_level0_row13\" class=\"row_heading level0 row13\" >PAY_AMT6</th>\n",
       "      <td id=\"T_1b94e_row13_col0\" class=\"data row13 col0\" >0.219595</td>\n",
       "      <td id=\"T_1b94e_row13_col1\" class=\"data row13 col1\" >0.019478</td>\n",
       "      <td id=\"T_1b94e_row13_col2\" class=\"data row13 col2\" >0.179341</td>\n",
       "      <td id=\"T_1b94e_row13_col3\" class=\"data row13 col3\" >0.174256</td>\n",
       "      <td id=\"T_1b94e_row13_col4\" class=\"data row13 col4\" >0.182326</td>\n",
       "      <td id=\"T_1b94e_row13_col5\" class=\"data row13 col5\" >0.177637</td>\n",
       "      <td id=\"T_1b94e_row13_col6\" class=\"data row13 col6\" >0.164184</td>\n",
       "      <td id=\"T_1b94e_row13_col7\" class=\"data row13 col7\" >0.115494</td>\n",
       "      <td id=\"T_1b94e_row13_col8\" class=\"data row13 col8\" >0.185735</td>\n",
       "      <td id=\"T_1b94e_row13_col9\" class=\"data row13 col9\" >0.157634</td>\n",
       "      <td id=\"T_1b94e_row13_col10\" class=\"data row13 col10\" >0.162740</td>\n",
       "      <td id=\"T_1b94e_row13_col11\" class=\"data row13 col11\" >0.157834</td>\n",
       "      <td id=\"T_1b94e_row13_col12\" class=\"data row13 col12\" >0.154896</td>\n",
       "      <td id=\"T_1b94e_row13_col13\" class=\"data row13 col13\" >1.000000</td>\n",
       "    </tr>\n",
       "  </tbody>\n",
       "</table>\n"
      ],
      "text/plain": [
       "<pandas.io.formats.style.Styler at 0x20630ddeaf0>"
      ]
     },
     "execution_count": 90,
     "metadata": {},
     "output_type": "execute_result"
    }
   ],
   "source": [
    "correlacao = X.corr()\n",
    "correlacao.style.background_gradient(cmap='coolwarm')"
   ]
  },
  {
   "cell_type": "markdown",
   "metadata": {
    "collapsed": false
   },
   "source": [
    "Removendo covariáveis com alta correlação"
   ]
  },
  {
   "cell_type": "code",
   "execution_count": 91,
   "metadata": {
    "collapsed": false,
    "pycharm": {
     "name": "#%%\n"
    }
   },
   "outputs": [],
   "source": [
    "## Selecionando o triângulo superior da matriz de correlação\n",
    "upper = correlacao.where(np.triu(np.ones(correlacao.shape), k=1).astype(bool))"
   ]
  },
  {
   "cell_type": "code",
   "execution_count": 92,
   "metadata": {
    "collapsed": false,
    "pycharm": {
     "name": "#%%\n"
    }
   },
   "outputs": [
    {
     "name": "stdout",
     "output_type": "stream",
     "text": [
      "['BILL_AMT2', 'BILL_AMT3', 'BILL_AMT4', 'BILL_AMT5', 'BILL_AMT6']\n"
     ]
    }
   ],
   "source": [
    "## Encontrando as colunas com correlação maior do que 0.6\n",
    "\n",
    "to_drop = [column for column in upper.columns if any(upper[column] > 0.60)]\n",
    "\n",
    "print(to_drop)"
   ]
  },
  {
   "cell_type": "code",
   "execution_count": 93,
   "metadata": {
    "collapsed": false,
    "pycharm": {
     "name": "#%%\n"
    }
   },
   "outputs": [],
   "source": [
    "## Banco sem as variáveis altamente correlacionadas\n",
    "\n",
    "X = X.drop(X[to_drop], axis=1)"
   ]
  },
  {
   "cell_type": "code",
   "execution_count": 94,
   "metadata": {
    "collapsed": false,
    "pycharm": {
     "name": "#%%\n"
    }
   },
   "outputs": [
    {
     "data": {
      "text/html": [
       "<style type=\"text/css\">\n",
       "#T_331e7_row0_col0, #T_331e7_row1_col1, #T_331e7_row2_col2, #T_331e7_row3_col3, #T_331e7_row4_col4, #T_331e7_row5_col5, #T_331e7_row6_col6, #T_331e7_row7_col7, #T_331e7_row8_col8 {\n",
       "  background-color: #b40426;\n",
       "  color: #f1f1f1;\n",
       "}\n",
       "#T_331e7_row0_col1, #T_331e7_row3_col7, #T_331e7_row7_col3 {\n",
       "  background-color: #6282ea;\n",
       "  color: #f1f1f1;\n",
       "}\n",
       "#T_331e7_row0_col2 {\n",
       "  background-color: #8badfd;\n",
       "  color: #000000;\n",
       "}\n",
       "#T_331e7_row0_col3 {\n",
       "  background-color: #7295f4;\n",
       "  color: #f1f1f1;\n",
       "}\n",
       "#T_331e7_row0_col4 {\n",
       "  background-color: #6c8ff1;\n",
       "  color: #f1f1f1;\n",
       "}\n",
       "#T_331e7_row0_col5, #T_331e7_row0_col6 {\n",
       "  background-color: #7699f6;\n",
       "  color: #f1f1f1;\n",
       "}\n",
       "#T_331e7_row0_col7, #T_331e7_row5_col6 {\n",
       "  background-color: #7a9df8;\n",
       "  color: #f1f1f1;\n",
       "}\n",
       "#T_331e7_row0_col8 {\n",
       "  background-color: #7da0f9;\n",
       "  color: #f1f1f1;\n",
       "}\n",
       "#T_331e7_row1_col0, #T_331e7_row1_col2, #T_331e7_row1_col3, #T_331e7_row1_col4, #T_331e7_row1_col5, #T_331e7_row1_col6, #T_331e7_row1_col7, #T_331e7_row1_col8, #T_331e7_row4_col1, #T_331e7_row6_col1, #T_331e7_row7_col1, #T_331e7_row8_col1 {\n",
       "  background-color: #3b4cc0;\n",
       "  color: #f1f1f1;\n",
       "}\n",
       "#T_331e7_row2_col0 {\n",
       "  background-color: #6f92f3;\n",
       "  color: #f1f1f1;\n",
       "}\n",
       "#T_331e7_row2_col1 {\n",
       "  background-color: #455cce;\n",
       "  color: #f1f1f1;\n",
       "}\n",
       "#T_331e7_row2_col3, #T_331e7_row7_col2 {\n",
       "  background-color: #5f7fe8;\n",
       "  color: #f1f1f1;\n",
       "}\n",
       "#T_331e7_row2_col4 {\n",
       "  background-color: #536edd;\n",
       "  color: #f1f1f1;\n",
       "}\n",
       "#T_331e7_row2_col5, #T_331e7_row6_col7, #T_331e7_row8_col2 {\n",
       "  background-color: #6384eb;\n",
       "  color: #f1f1f1;\n",
       "}\n",
       "#T_331e7_row2_col6, #T_331e7_row5_col7, #T_331e7_row7_col8, #T_331e7_row8_col4, #T_331e7_row8_col5, #T_331e7_row8_col6 {\n",
       "  background-color: #6687ed;\n",
       "  color: #f1f1f1;\n",
       "}\n",
       "#T_331e7_row2_col7, #T_331e7_row5_col8 {\n",
       "  background-color: #688aef;\n",
       "  color: #f1f1f1;\n",
       "}\n",
       "#T_331e7_row2_col8, #T_331e7_row4_col6, #T_331e7_row4_col7, #T_331e7_row6_col4, #T_331e7_row7_col4, #T_331e7_row8_col3 {\n",
       "  background-color: #6e90f2;\n",
       "  color: #f1f1f1;\n",
       "}\n",
       "#T_331e7_row3_col0 {\n",
       "  background-color: #4c66d6;\n",
       "  color: #f1f1f1;\n",
       "}\n",
       "#T_331e7_row3_col1 {\n",
       "  background-color: #3c4ec2;\n",
       "  color: #f1f1f1;\n",
       "}\n",
       "#T_331e7_row3_col2, #T_331e7_row8_col0 {\n",
       "  background-color: #5572df;\n",
       "  color: #f1f1f1;\n",
       "}\n",
       "#T_331e7_row3_col4 {\n",
       "  background-color: #94b6ff;\n",
       "  color: #000000;\n",
       "}\n",
       "#T_331e7_row3_col5, #T_331e7_row5_col4 {\n",
       "  background-color: #85a8fc;\n",
       "  color: #f1f1f1;\n",
       "}\n",
       "#T_331e7_row3_col6 {\n",
       "  background-color: #7597f6;\n",
       "  color: #f1f1f1;\n",
       "}\n",
       "#T_331e7_row3_col8 {\n",
       "  background-color: #7093f3;\n",
       "  color: #f1f1f1;\n",
       "}\n",
       "#T_331e7_row4_col0 {\n",
       "  background-color: #465ecf;\n",
       "  color: #f1f1f1;\n",
       "}\n",
       "#T_331e7_row4_col2 {\n",
       "  background-color: #485fd1;\n",
       "  color: #f1f1f1;\n",
       "}\n",
       "#T_331e7_row4_col3 {\n",
       "  background-color: #93b5fe;\n",
       "  color: #000000;\n",
       "}\n",
       "#T_331e7_row4_col5 {\n",
       "  background-color: #82a6fb;\n",
       "  color: #f1f1f1;\n",
       "}\n",
       "#T_331e7_row4_col8, #T_331e7_row6_col8 {\n",
       "  background-color: #6788ee;\n",
       "  color: #f1f1f1;\n",
       "}\n",
       "#T_331e7_row5_col0 {\n",
       "  background-color: #516ddb;\n",
       "  color: #f1f1f1;\n",
       "}\n",
       "#T_331e7_row5_col1 {\n",
       "  background-color: #3d50c3;\n",
       "  color: #f1f1f1;\n",
       "}\n",
       "#T_331e7_row5_col2, #T_331e7_row6_col2 {\n",
       "  background-color: #5b7ae5;\n",
       "  color: #f1f1f1;\n",
       "}\n",
       "#T_331e7_row5_col3 {\n",
       "  background-color: #86a9fc;\n",
       "  color: #f1f1f1;\n",
       "}\n",
       "#T_331e7_row6_col0 {\n",
       "  background-color: #4f69d9;\n",
       "  color: #f1f1f1;\n",
       "}\n",
       "#T_331e7_row6_col3 {\n",
       "  background-color: #7396f5;\n",
       "  color: #f1f1f1;\n",
       "}\n",
       "#T_331e7_row6_col5 {\n",
       "  background-color: #799cf8;\n",
       "  color: #f1f1f1;\n",
       "}\n",
       "#T_331e7_row7_col0 {\n",
       "  background-color: #5470de;\n",
       "  color: #f1f1f1;\n",
       "}\n",
       "#T_331e7_row7_col5, #T_331e7_row7_col6, #T_331e7_row8_col7 {\n",
       "  background-color: #6485ec;\n",
       "  color: #f1f1f1;\n",
       "}\n",
       "</style>\n",
       "<table id=\"T_331e7_\">\n",
       "  <thead>\n",
       "    <tr>\n",
       "      <th class=\"blank level0\" >&nbsp;</th>\n",
       "      <th class=\"col_heading level0 col0\" >LIMIT_BAL</th>\n",
       "      <th class=\"col_heading level0 col1\" >AGE</th>\n",
       "      <th class=\"col_heading level0 col2\" >BILL_AMT1</th>\n",
       "      <th class=\"col_heading level0 col3\" >PAY_AMT1</th>\n",
       "      <th class=\"col_heading level0 col4\" >PAY_AMT2</th>\n",
       "      <th class=\"col_heading level0 col5\" >PAY_AMT3</th>\n",
       "      <th class=\"col_heading level0 col6\" >PAY_AMT4</th>\n",
       "      <th class=\"col_heading level0 col7\" >PAY_AMT5</th>\n",
       "      <th class=\"col_heading level0 col8\" >PAY_AMT6</th>\n",
       "    </tr>\n",
       "  </thead>\n",
       "  <tbody>\n",
       "    <tr>\n",
       "      <th id=\"T_331e7_level0_row0\" class=\"row_heading level0 row0\" >LIMIT_BAL</th>\n",
       "      <td id=\"T_331e7_row0_col0\" class=\"data row0 col0\" >1.000000</td>\n",
       "      <td id=\"T_331e7_row0_col1\" class=\"data row0 col1\" >0.144713</td>\n",
       "      <td id=\"T_331e7_row0_col2\" class=\"data row0 col2\" >0.285430</td>\n",
       "      <td id=\"T_331e7_row0_col3\" class=\"data row0 col3\" >0.195236</td>\n",
       "      <td id=\"T_331e7_row0_col4\" class=\"data row0 col4\" >0.178408</td>\n",
       "      <td id=\"T_331e7_row0_col5\" class=\"data row0 col5\" >0.210167</td>\n",
       "      <td id=\"T_331e7_row0_col6\" class=\"data row0 col6\" >0.203242</td>\n",
       "      <td id=\"T_331e7_row0_col7\" class=\"data row0 col7\" >0.217202</td>\n",
       "      <td id=\"T_331e7_row0_col8\" class=\"data row0 col8\" >0.219595</td>\n",
       "    </tr>\n",
       "    <tr>\n",
       "      <th id=\"T_331e7_level0_row1\" class=\"row_heading level0 row1\" >AGE</th>\n",
       "      <td id=\"T_331e7_row1_col0\" class=\"data row1 col0\" >0.144713</td>\n",
       "      <td id=\"T_331e7_row1_col1\" class=\"data row1 col1\" >1.000000</td>\n",
       "      <td id=\"T_331e7_row1_col2\" class=\"data row1 col2\" >0.056239</td>\n",
       "      <td id=\"T_331e7_row1_col3\" class=\"data row1 col3\" >0.026147</td>\n",
       "      <td id=\"T_331e7_row1_col4\" class=\"data row1 col4\" >0.021785</td>\n",
       "      <td id=\"T_331e7_row1_col5\" class=\"data row1 col5\" >0.029247</td>\n",
       "      <td id=\"T_331e7_row1_col6\" class=\"data row1 col6\" >0.021379</td>\n",
       "      <td id=\"T_331e7_row1_col7\" class=\"data row1 col7\" >0.022850</td>\n",
       "      <td id=\"T_331e7_row1_col8\" class=\"data row1 col8\" >0.019478</td>\n",
       "    </tr>\n",
       "    <tr>\n",
       "      <th id=\"T_331e7_level0_row2\" class=\"row_heading level0 row2\" >BILL_AMT1</th>\n",
       "      <td id=\"T_331e7_row2_col0\" class=\"data row2 col0\" >0.285430</td>\n",
       "      <td id=\"T_331e7_row2_col1\" class=\"data row2 col1\" >0.056239</td>\n",
       "      <td id=\"T_331e7_row2_col2\" class=\"data row2 col2\" >1.000000</td>\n",
       "      <td id=\"T_331e7_row2_col3\" class=\"data row2 col3\" >0.140277</td>\n",
       "      <td id=\"T_331e7_row2_col4\" class=\"data row2 col4\" >0.099355</td>\n",
       "      <td id=\"T_331e7_row2_col5\" class=\"data row2 col5\" >0.156887</td>\n",
       "      <td id=\"T_331e7_row2_col6\" class=\"data row2 col6\" >0.158303</td>\n",
       "      <td id=\"T_331e7_row2_col7\" class=\"data row2 col7\" >0.167026</td>\n",
       "      <td id=\"T_331e7_row2_col8\" class=\"data row2 col8\" >0.179341</td>\n",
       "    </tr>\n",
       "    <tr>\n",
       "      <th id=\"T_331e7_level0_row3\" class=\"row_heading level0 row3\" >PAY_AMT1</th>\n",
       "      <td id=\"T_331e7_row3_col0\" class=\"data row3 col0\" >0.195236</td>\n",
       "      <td id=\"T_331e7_row3_col1\" class=\"data row3 col1\" >0.026147</td>\n",
       "      <td id=\"T_331e7_row3_col2\" class=\"data row3 col2\" >0.140277</td>\n",
       "      <td id=\"T_331e7_row3_col3\" class=\"data row3 col3\" >1.000000</td>\n",
       "      <td id=\"T_331e7_row3_col4\" class=\"data row3 col4\" >0.285576</td>\n",
       "      <td id=\"T_331e7_row3_col5\" class=\"data row3 col5\" >0.252191</td>\n",
       "      <td id=\"T_331e7_row3_col6\" class=\"data row3 col6\" >0.199558</td>\n",
       "      <td id=\"T_331e7_row3_col7\" class=\"data row3 col7\" >0.148459</td>\n",
       "      <td id=\"T_331e7_row3_col8\" class=\"data row3 col8\" >0.185735</td>\n",
       "    </tr>\n",
       "    <tr>\n",
       "      <th id=\"T_331e7_level0_row4\" class=\"row_heading level0 row4\" >PAY_AMT2</th>\n",
       "      <td id=\"T_331e7_row4_col0\" class=\"data row4 col0\" >0.178408</td>\n",
       "      <td id=\"T_331e7_row4_col1\" class=\"data row4 col1\" >0.021785</td>\n",
       "      <td id=\"T_331e7_row4_col2\" class=\"data row4 col2\" >0.099355</td>\n",
       "      <td id=\"T_331e7_row4_col3\" class=\"data row4 col3\" >0.285576</td>\n",
       "      <td id=\"T_331e7_row4_col4\" class=\"data row4 col4\" >1.000000</td>\n",
       "      <td id=\"T_331e7_row4_col5\" class=\"data row4 col5\" >0.244770</td>\n",
       "      <td id=\"T_331e7_row4_col6\" class=\"data row4 col6\" >0.180107</td>\n",
       "      <td id=\"T_331e7_row4_col7\" class=\"data row4 col7\" >0.180908</td>\n",
       "      <td id=\"T_331e7_row4_col8\" class=\"data row4 col8\" >0.157634</td>\n",
       "    </tr>\n",
       "    <tr>\n",
       "      <th id=\"T_331e7_level0_row5\" class=\"row_heading level0 row5\" >PAY_AMT3</th>\n",
       "      <td id=\"T_331e7_row5_col0\" class=\"data row5 col0\" >0.210167</td>\n",
       "      <td id=\"T_331e7_row5_col1\" class=\"data row5 col1\" >0.029247</td>\n",
       "      <td id=\"T_331e7_row5_col2\" class=\"data row5 col2\" >0.156887</td>\n",
       "      <td id=\"T_331e7_row5_col3\" class=\"data row5 col3\" >0.252191</td>\n",
       "      <td id=\"T_331e7_row5_col4\" class=\"data row5 col4\" >0.244770</td>\n",
       "      <td id=\"T_331e7_row5_col5\" class=\"data row5 col5\" >1.000000</td>\n",
       "      <td id=\"T_331e7_row5_col6\" class=\"data row5 col6\" >0.216325</td>\n",
       "      <td id=\"T_331e7_row5_col7\" class=\"data row5 col7\" >0.159214</td>\n",
       "      <td id=\"T_331e7_row5_col8\" class=\"data row5 col8\" >0.162740</td>\n",
       "    </tr>\n",
       "    <tr>\n",
       "      <th id=\"T_331e7_level0_row6\" class=\"row_heading level0 row6\" >PAY_AMT4</th>\n",
       "      <td id=\"T_331e7_row6_col0\" class=\"data row6 col0\" >0.203242</td>\n",
       "      <td id=\"T_331e7_row6_col1\" class=\"data row6 col1\" >0.021379</td>\n",
       "      <td id=\"T_331e7_row6_col2\" class=\"data row6 col2\" >0.158303</td>\n",
       "      <td id=\"T_331e7_row6_col3\" class=\"data row6 col3\" >0.199558</td>\n",
       "      <td id=\"T_331e7_row6_col4\" class=\"data row6 col4\" >0.180107</td>\n",
       "      <td id=\"T_331e7_row6_col5\" class=\"data row6 col5\" >0.216325</td>\n",
       "      <td id=\"T_331e7_row6_col6\" class=\"data row6 col6\" >1.000000</td>\n",
       "      <td id=\"T_331e7_row6_col7\" class=\"data row6 col7\" >0.151830</td>\n",
       "      <td id=\"T_331e7_row6_col8\" class=\"data row6 col8\" >0.157834</td>\n",
       "    </tr>\n",
       "    <tr>\n",
       "      <th id=\"T_331e7_level0_row7\" class=\"row_heading level0 row7\" >PAY_AMT5</th>\n",
       "      <td id=\"T_331e7_row7_col0\" class=\"data row7 col0\" >0.217202</td>\n",
       "      <td id=\"T_331e7_row7_col1\" class=\"data row7 col1\" >0.022850</td>\n",
       "      <td id=\"T_331e7_row7_col2\" class=\"data row7 col2\" >0.167026</td>\n",
       "      <td id=\"T_331e7_row7_col3\" class=\"data row7 col3\" >0.148459</td>\n",
       "      <td id=\"T_331e7_row7_col4\" class=\"data row7 col4\" >0.180908</td>\n",
       "      <td id=\"T_331e7_row7_col5\" class=\"data row7 col5\" >0.159214</td>\n",
       "      <td id=\"T_331e7_row7_col6\" class=\"data row7 col6\" >0.151830</td>\n",
       "      <td id=\"T_331e7_row7_col7\" class=\"data row7 col7\" >1.000000</td>\n",
       "      <td id=\"T_331e7_row7_col8\" class=\"data row7 col8\" >0.154896</td>\n",
       "    </tr>\n",
       "    <tr>\n",
       "      <th id=\"T_331e7_level0_row8\" class=\"row_heading level0 row8\" >PAY_AMT6</th>\n",
       "      <td id=\"T_331e7_row8_col0\" class=\"data row8 col0\" >0.219595</td>\n",
       "      <td id=\"T_331e7_row8_col1\" class=\"data row8 col1\" >0.019478</td>\n",
       "      <td id=\"T_331e7_row8_col2\" class=\"data row8 col2\" >0.179341</td>\n",
       "      <td id=\"T_331e7_row8_col3\" class=\"data row8 col3\" >0.185735</td>\n",
       "      <td id=\"T_331e7_row8_col4\" class=\"data row8 col4\" >0.157634</td>\n",
       "      <td id=\"T_331e7_row8_col5\" class=\"data row8 col5\" >0.162740</td>\n",
       "      <td id=\"T_331e7_row8_col6\" class=\"data row8 col6\" >0.157834</td>\n",
       "      <td id=\"T_331e7_row8_col7\" class=\"data row8 col7\" >0.154896</td>\n",
       "      <td id=\"T_331e7_row8_col8\" class=\"data row8 col8\" >1.000000</td>\n",
       "    </tr>\n",
       "  </tbody>\n",
       "</table>\n"
      ],
      "text/plain": [
       "<pandas.io.formats.style.Styler at 0x20630ddedc0>"
      ]
     },
     "execution_count": 94,
     "metadata": {},
     "output_type": "execute_result"
    }
   ],
   "source": [
    "## Problema de correlação continua não resolvido\n",
    "\n",
    "teste = X.corr()\n",
    "teste.style.background_gradient(cmap='coolwarm')"
   ]
  },
  {
   "cell_type": "markdown",
   "metadata": {
    "collapsed": false
   },
   "source": [
    "Dividindo banco de treino e verificação"
   ]
  },
  {
   "cell_type": "code",
   "execution_count": 95,
   "metadata": {
    "collapsed": false,
    "pycharm": {
     "name": "#%%\n"
    }
   },
   "outputs": [],
   "source": [
    "X_train, X_test, y_train, y_test = train_test_split(X, y, test_size=0.3, random_state=37)\n",
    "\n"
   ]
  },
  {
   "cell_type": "markdown",
   "metadata": {
    "collapsed": false
   },
   "source": [
    "Montando função de prototipagem"
   ]
  },
  {
   "cell_type": "code",
   "execution_count": 96,
   "metadata": {
    "collapsed": false,
    "pycharm": {
     "name": "#%%\n"
    }
   },
   "outputs": [],
   "source": [
    "def prototipo(modelo,xtreino,ytreino,xteste,yteste):\n",
    "    modelo.fit(xtreino,ytreino)\n",
    "\n",
    "    y_test_pred = modelo.predict(xteste)\n",
    "    #matriz de confusão\n",
    "    print(confusion_matrix(yteste, y_test_pred))\n",
    "    #estatísticas gerais do modelo\n",
    "    print(classification_report(yteste, y_test_pred))\n",
    "    #curva ROC\n",
    "    fpr, tpr, _ = roc_curve(yteste, y_test_pred)\n",
    "    fig, ax = plt.subplots()\n",
    "    ax.plot(fpr,tpr)\n",
    "    ax.set(xlabel='False Positive Rate',ylabel='True Positive Rate')\n",
    "    plt.show()\n",
    "\n",
    "    cv = cross_validate(modelo,pd.concat([xtreino,xteste]),pd.concat([ytreino,yteste]), cv= 10, scoring = ('recall','precision','accuracy'))\n",
    "    \n",
    "    print(\"\\nA acuracia média com dez dobras é de\",round(cv['test_accuracy'].mean()*100,2),\"%\", 'com erro padrão de ', np.std((cv['test_accuracy']*100)).round(2),\"%\",\"\\n\")\n",
    "    print(\"\\nA precisão média com dez dobras é de\",round(cv['test_precision'].mean()*100,2),\"%\", 'com erro padrão de ', np.std((cv['test_precision']*100)).round(2),\"%\",\"\\n\")\n",
    "    print(\"\\nA sensibilidade média com dez dobras é de\",round(cv['test_recall'].mean()*100,2),\"%\", 'com erro padrão de ', np.std((cv['test_recall']*100)).round(2),\"%\",\"\\n\")"
   ]
  },
  {
   "cell_type": "markdown",
   "metadata": {
    "collapsed": false
   },
   "source": [
    "Regressão Logística"
   ]
  },
  {
   "cell_type": "code",
   "execution_count": 97,
   "metadata": {
    "collapsed": false,
    "pycharm": {
     "name": "#%%\n"
    }
   },
   "outputs": [
    {
     "name": "stdout",
     "output_type": "stream",
     "text": [
      "[[6997    0]\n",
      " [2003    0]]\n",
      "              precision    recall  f1-score   support\n",
      "\n",
      "           0       0.78      1.00      0.87      6997\n",
      "           1       0.00      0.00      0.00      2003\n",
      "\n",
      "    accuracy                           0.78      9000\n",
      "   macro avg       0.39      0.50      0.44      9000\n",
      "weighted avg       0.60      0.78      0.68      9000\n",
      "\n"
     ]
    },
    {
     "name": "stderr",
     "output_type": "stream",
     "text": [
      "C:\\Users\\e-luiz.alvarenga\\.conda\\envs\\luiz_base\\lib\\site-packages\\sklearn\\metrics\\_classification.py:1248: UndefinedMetricWarning: Precision and F-score are ill-defined and being set to 0.0 in labels with no predicted samples. Use `zero_division` parameter to control this behavior.\n",
      "  _warn_prf(average, modifier, msg_start, len(result))\n",
      "C:\\Users\\e-luiz.alvarenga\\.conda\\envs\\luiz_base\\lib\\site-packages\\sklearn\\metrics\\_classification.py:1248: UndefinedMetricWarning: Precision and F-score are ill-defined and being set to 0.0 in labels with no predicted samples. Use `zero_division` parameter to control this behavior.\n",
      "  _warn_prf(average, modifier, msg_start, len(result))\n",
      "C:\\Users\\e-luiz.alvarenga\\.conda\\envs\\luiz_base\\lib\\site-packages\\sklearn\\metrics\\_classification.py:1248: UndefinedMetricWarning: Precision and F-score are ill-defined and being set to 0.0 in labels with no predicted samples. Use `zero_division` parameter to control this behavior.\n",
      "  _warn_prf(average, modifier, msg_start, len(result))\n"
     ]
    },
    {
     "data": {
      "image/png": "[encoded data removed]",
      "text/plain": [
       "<Figure size 432x288 with 1 Axes>"
      ]
     },
     "metadata": {
      "needs_background": "light"
     },
     "output_type": "display_data"
    },
    {
     "name": "stderr",
     "output_type": "stream",
     "text": [
      "C:\\Users\\e-luiz.alvarenga\\.conda\\envs\\luiz_base\\lib\\site-packages\\sklearn\\metrics\\_classification.py:1248: UndefinedMetricWarning: Precision is ill-defined and being set to 0.0 due to no predicted samples. Use `zero_division` parameter to control this behavior.\n",
      "  _warn_prf(average, modifier, msg_start, len(result))\n",
      "C:\\Users\\e-luiz.alvarenga\\.conda\\envs\\luiz_base\\lib\\site-packages\\sklearn\\metrics\\_classification.py:1248: UndefinedMetricWarning: Precision is ill-defined and being set to 0.0 due to no predicted samples. Use `zero_division` parameter to control this behavior.\n",
      "  _warn_prf(average, modifier, msg_start, len(result))\n",
      "C:\\Users\\e-luiz.alvarenga\\.conda\\envs\\luiz_base\\lib\\site-packages\\sklearn\\metrics\\_classification.py:1248: UndefinedMetricWarning: Precision is ill-defined and being set to 0.0 due to no predicted samples. Use `zero_division` parameter to control this behavior.\n",
      "  _warn_prf(average, modifier, msg_start, len(result))\n",
      "C:\\Users\\e-luiz.alvarenga\\.conda\\envs\\luiz_base\\lib\\site-packages\\sklearn\\metrics\\_classification.py:1248: UndefinedMetricWarning: Precision is ill-defined and being set to 0.0 due to no predicted samples. Use `zero_division` parameter to control this behavior.\n",
      "  _warn_prf(average, modifier, msg_start, len(result))\n",
      "C:\\Users\\e-luiz.alvarenga\\.conda\\envs\\luiz_base\\lib\\site-packages\\sklearn\\metrics\\_classification.py:1248: UndefinedMetricWarning: Precision is ill-defined and being set to 0.0 due to no predicted samples. Use `zero_division` parameter to control this behavior.\n",
      "  _warn_prf(average, modifier, msg_start, len(result))\n",
      "C:\\Users\\e-luiz.alvarenga\\.conda\\envs\\luiz_base\\lib\\site-packages\\sklearn\\metrics\\_classification.py:1248: UndefinedMetricWarning: Precision is ill-defined and being set to 0.0 due to no predicted samples. Use `zero_division` parameter to control this behavior.\n",
      "  _warn_prf(average, modifier, msg_start, len(result))\n",
      "C:\\Users\\e-luiz.alvarenga\\.conda\\envs\\luiz_base\\lib\\site-packages\\sklearn\\metrics\\_classification.py:1248: UndefinedMetricWarning: Precision is ill-defined and being set to 0.0 due to no predicted samples. Use `zero_division` parameter to control this behavior.\n",
      "  _warn_prf(average, modifier, msg_start, len(result))\n",
      "C:\\Users\\e-luiz.alvarenga\\.conda\\envs\\luiz_base\\lib\\site-packages\\sklearn\\metrics\\_classification.py:1248: UndefinedMetricWarning: Precision is ill-defined and being set to 0.0 due to no predicted samples. Use `zero_division` parameter to control this behavior.\n",
      "  _warn_prf(average, modifier, msg_start, len(result))\n",
      "C:\\Users\\e-luiz.alvarenga\\.conda\\envs\\luiz_base\\lib\\site-packages\\sklearn\\metrics\\_classification.py:1248: UndefinedMetricWarning: Precision is ill-defined and being set to 0.0 due to no predicted samples. Use `zero_division` parameter to control this behavior.\n",
      "  _warn_prf(average, modifier, msg_start, len(result))\n"
     ]
    },
    {
     "name": "stdout",
     "output_type": "stream",
     "text": [
      "\n",
      "A acuracia média com dez dobras é de 77.88 % com erro padrão de  0.02 % \n",
      "\n",
      "\n",
      "A precisão média com dez dobras é de 0.0 % com erro padrão de  0.0 % \n",
      "\n",
      "\n",
      "A sensibilidade média com dez dobras é de 0.0 % com erro padrão de  0.0 % \n",
      "\n"
     ]
    },
    {
     "name": "stderr",
     "output_type": "stream",
     "text": [
      "C:\\Users\\e-luiz.alvarenga\\.conda\\envs\\luiz_base\\lib\\site-packages\\sklearn\\metrics\\_classification.py:1248: UndefinedMetricWarning: Precision is ill-defined and being set to 0.0 due to no predicted samples. Use `zero_division` parameter to control this behavior.\n",
      "  _warn_prf(average, modifier, msg_start, len(result))\n"
     ]
    }
   ],
   "source": [
    "lr = LogisticRegression(max_iter=1000)\n",
    "prototipo(lr,X_train,y_train,X_test,y_test)"
   ]
  },
  {
   "cell_type": "markdown",
   "metadata": {
    "collapsed": false
   },
   "source": [
    "Regressão Logística com SGD"
   ]
  },
  {
   "cell_type": "code",
   "execution_count": 98,
   "metadata": {
    "collapsed": false,
    "pycharm": {
     "name": "#%%\n"
    }
   },
   "outputs": [
    {
     "name": "stdout",
     "output_type": "stream",
     "text": [
      "[[6749  248]\n",
      " [1906   97]]\n",
      "              precision    recall  f1-score   support\n",
      "\n",
      "           0       0.78      0.96      0.86      6997\n",
      "           1       0.28      0.05      0.08      2003\n",
      "\n",
      "    accuracy                           0.76      9000\n",
      "   macro avg       0.53      0.51      0.47      9000\n",
      "weighted avg       0.67      0.76      0.69      9000\n",
      "\n"
     ]
    },
    {
     "data": {
      "image/png": "[encoded data removed]",
      "text/plain": [
       "<Figure size 432x288 with 1 Axes>"
      ]
     },
     "metadata": {
      "needs_background": "light"
     },
     "output_type": "display_data"
    },
    {
     "name": "stderr",
     "output_type": "stream",
     "text": [
      "C:\\Users\\e-luiz.alvarenga\\.conda\\envs\\luiz_base\\lib\\site-packages\\sklearn\\metrics\\_classification.py:1248: UndefinedMetricWarning: Precision is ill-defined and being set to 0.0 due to no predicted samples. Use `zero_division` parameter to control this behavior.\n",
      "  _warn_prf(average, modifier, msg_start, len(result))\n",
      "C:\\Users\\e-luiz.alvarenga\\.conda\\envs\\luiz_base\\lib\\site-packages\\sklearn\\metrics\\_classification.py:1248: UndefinedMetricWarning: Precision is ill-defined and being set to 0.0 due to no predicted samples. Use `zero_division` parameter to control this behavior.\n",
      "  _warn_prf(average, modifier, msg_start, len(result))\n",
      "C:\\Users\\e-luiz.alvarenga\\.conda\\envs\\luiz_base\\lib\\site-packages\\sklearn\\metrics\\_classification.py:1248: UndefinedMetricWarning: Precision is ill-defined and being set to 0.0 due to no predicted samples. Use `zero_division` parameter to control this behavior.\n",
      "  _warn_prf(average, modifier, msg_start, len(result))\n",
      "C:\\Users\\e-luiz.alvarenga\\.conda\\envs\\luiz_base\\lib\\site-packages\\sklearn\\metrics\\_classification.py:1248: UndefinedMetricWarning: Precision is ill-defined and being set to 0.0 due to no predicted samples. Use `zero_division` parameter to control this behavior.\n",
      "  _warn_prf(average, modifier, msg_start, len(result))\n"
     ]
    },
    {
     "name": "stdout",
     "output_type": "stream",
     "text": [
      "\n",
      "A acuracia média com dez dobras é de 69.66 % com erro padrão de  16.14 % \n",
      "\n",
      "\n",
      "A precisão média com dez dobras é de 14.67 % com erro padrão de  15.41 % \n",
      "\n",
      "\n",
      "A sensibilidade média com dez dobras é de 16.6 % com erro padrão de  29.8 % \n",
      "\n"
     ]
    },
    {
     "name": "stderr",
     "output_type": "stream",
     "text": [
      "C:\\Users\\e-luiz.alvarenga\\.conda\\envs\\luiz_base\\lib\\site-packages\\sklearn\\metrics\\_classification.py:1248: UndefinedMetricWarning: Precision is ill-defined and being set to 0.0 due to no predicted samples. Use `zero_division` parameter to control this behavior.\n",
      "  _warn_prf(average, modifier, msg_start, len(result))\n"
     ]
    }
   ],
   "source": [
    "lr_sgd = SGDClassifier(loss='log')\n",
    "\n",
    "prototipo(lr_sgd,X_train,y_train,X_test,y_test)"
   ]
  },
  {
   "cell_type": "markdown",
   "metadata": {
    "collapsed": false
   },
   "source": [
    "Support Vector Machine RBF"
   ]
  },
  {
   "cell_type": "code",
   "execution_count": 99,
   "metadata": {
    "collapsed": false,
    "pycharm": {
     "name": "#%%\n"
    }
   },
   "outputs": [
    {
     "name": "stdout",
     "output_type": "stream",
     "text": [
      "[[6936   61]\n",
      " [1983   20]]\n",
      "              precision    recall  f1-score   support\n",
      "\n",
      "           0       0.78      0.99      0.87      6997\n",
      "           1       0.25      0.01      0.02      2003\n",
      "\n",
      "    accuracy                           0.77      9000\n",
      "   macro avg       0.51      0.50      0.45      9000\n",
      "weighted avg       0.66      0.77      0.68      9000\n",
      "\n"
     ]
    },
    {
     "data": {
      "image/png": "[encoded data removed]",
      "text/plain": [
       "<Figure size 432x288 with 1 Axes>"
      ]
     },
     "metadata": {
      "needs_background": "light"
     },
     "output_type": "display_data"
    },
    {
     "name": "stderr",
     "output_type": "stream",
     "text": [
      "C:\\Users\\e-luiz.alvarenga\\.conda\\envs\\luiz_base\\lib\\site-packages\\sklearn\\metrics\\_classification.py:1248: UndefinedMetricWarning: Precision is ill-defined and being set to 0.0 due to no predicted samples. Use `zero_division` parameter to control this behavior.\n",
      "  _warn_prf(average, modifier, msg_start, len(result))\n",
      "C:\\Users\\e-luiz.alvarenga\\.conda\\envs\\luiz_base\\lib\\site-packages\\sklearn\\metrics\\_classification.py:1248: UndefinedMetricWarning: Precision is ill-defined and being set to 0.0 due to no predicted samples. Use `zero_division` parameter to control this behavior.\n",
      "  _warn_prf(average, modifier, msg_start, len(result))\n",
      "C:\\Users\\e-luiz.alvarenga\\.conda\\envs\\luiz_base\\lib\\site-packages\\sklearn\\metrics\\_classification.py:1248: UndefinedMetricWarning: Precision is ill-defined and being set to 0.0 due to no predicted samples. Use `zero_division` parameter to control this behavior.\n",
      "  _warn_prf(average, modifier, msg_start, len(result))\n"
     ]
    },
    {
     "name": "stdout",
     "output_type": "stream",
     "text": [
      "\n",
      "A acuracia média com dez dobras é de 71.75 % com erro padrão de  10.05 % \n",
      "\n",
      "\n",
      "A precisão média com dez dobras é de 19.39 % com erro padrão de  15.97 % \n",
      "\n",
      "\n",
      "A sensibilidade média com dez dobras é de 15.64 % com erro padrão de  25.22 % \n",
      "\n"
     ]
    }
   ],
   "source": [
    "svc = SGDClassifier()\n",
    "\n",
    "prototipo(svc,X_train,y_train,X_test,y_test)"
   ]
  },
  {
   "cell_type": "markdown",
   "metadata": {
    "collapsed": false
   },
   "source": [
    "Árvore de Decisão"
   ]
  },
  {
   "cell_type": "code",
   "execution_count": 100,
   "metadata": {
    "collapsed": false,
    "pycharm": {
     "name": "#%%\n"
    }
   },
   "outputs": [
    {
     "name": "stdout",
     "output_type": "stream",
     "text": [
      "[[5727 1270]\n",
      " [1183  820]]\n",
      "              precision    recall  f1-score   support\n",
      "\n",
      "           0       0.83      0.82      0.82      6997\n",
      "           1       0.39      0.41      0.40      2003\n",
      "\n",
      "    accuracy                           0.73      9000\n",
      "   macro avg       0.61      0.61      0.61      9000\n",
      "weighted avg       0.73      0.73      0.73      9000\n",
      "\n"
     ]
    },
    {
     "data": {
      "image/png": "[encoded data removed]",
      "text/plain": [
       "<Figure size 432x288 with 1 Axes>"
      ]
     },
     "metadata": {
      "needs_background": "light"
     },
     "output_type": "display_data"
    },
    {
     "name": "stdout",
     "output_type": "stream",
     "text": [
      "\n",
      "A acuracia média com dez dobras é de 72.31 % com erro padrão de  0.73 % \n",
      "\n",
      "\n",
      "A precisão média com dez dobras é de 38.3 % com erro padrão de  1.5 % \n",
      "\n",
      "\n",
      "A sensibilidade média com dez dobras é de 41.21 % com erro padrão de  1.8 % \n",
      "\n"
     ]
    }
   ],
   "source": [
    "arvore = tree.DecisionTreeClassifier()\n",
    "\n",
    "prototipo(arvore,X_train,y_train,X_test,y_test)"
   ]
  },
  {
   "cell_type": "markdown",
   "metadata": {
    "collapsed": false
   },
   "source": []
  },
  {
   "cell_type": "markdown",
   "metadata": {
    "collapsed": false
   },
   "source": [
    "Árvore Aleatória"
   ]
  },
  {
   "cell_type": "code",
   "execution_count": 101,
   "metadata": {
    "collapsed": false,
    "pycharm": {
     "name": "#%%\n"
    }
   },
   "outputs": [
    {
     "name": "stdout",
     "output_type": "stream",
     "text": [
      "[[6599  398]\n",
      " [1275  728]]\n",
      "              precision    recall  f1-score   support\n",
      "\n",
      "           0       0.84      0.94      0.89      6997\n",
      "           1       0.65      0.36      0.47      2003\n",
      "\n",
      "    accuracy                           0.81      9000\n",
      "   macro avg       0.74      0.65      0.68      9000\n",
      "weighted avg       0.80      0.81      0.79      9000\n",
      "\n"
     ]
    },
    {
     "data": {
      "image/png": "[encoded data removed]",
      "text/plain": [
       "<Figure size 432x288 with 1 Axes>"
      ]
     },
     "metadata": {
      "needs_background": "light"
     },
     "output_type": "display_data"
    },
    {
     "name": "stdout",
     "output_type": "stream",
     "text": [
      "\n",
      "A acuracia média com dez dobras é de 81.74 % com erro padrão de  0.64 % \n",
      "\n",
      "\n",
      "A precisão média com dez dobras é de 65.05 % com erro padrão de  2.24 % \n",
      "\n",
      "\n",
      "A sensibilidade média com dez dobras é de 37.7 % com erro padrão de  2.45 % \n",
      "\n"
     ]
    }
   ],
   "source": [
    "arvore_aleatoria = RandomForestClassifier()\n",
    "\n",
    "prototipo(arvore_aleatoria,X_train,y_train,X_test,y_test)"
   ]
  },
  {
   "cell_type": "markdown",
   "metadata": {
    "collapsed": false
   },
   "source": [
    "AdaBoost"
   ]
  },
  {
   "cell_type": "code",
   "execution_count": 102,
   "metadata": {
    "collapsed": false,
    "pycharm": {
     "name": "#%%\n"
    }
   },
   "outputs": [
    {
     "name": "stdout",
     "output_type": "stream",
     "text": [
      "[[6698  299]\n",
      " [1389  614]]\n",
      "              precision    recall  f1-score   support\n",
      "\n",
      "           0       0.83      0.96      0.89      6997\n",
      "           1       0.67      0.31      0.42      2003\n",
      "\n",
      "    accuracy                           0.81      9000\n",
      "   macro avg       0.75      0.63      0.65      9000\n",
      "weighted avg       0.79      0.81      0.78      9000\n",
      "\n"
     ]
    },
    {
     "data": {
      "image/png": "[encoded data removed]",
      "text/plain": [
       "<Figure size 432x288 with 1 Axes>"
      ]
     },
     "metadata": {
      "needs_background": "light"
     },
     "output_type": "display_data"
    },
    {
     "name": "stdout",
     "output_type": "stream",
     "text": [
      "\n",
      "A acuracia média com dez dobras é de 81.71 % com erro padrão de  0.64 % \n",
      "\n",
      "\n",
      "A precisão média com dez dobras é de 68.5 % com erro padrão de  2.94 % \n",
      "\n",
      "\n",
      "A sensibilidade média com dez dobras é de 32.05 % com erro padrão de  2.02 % \n",
      "\n"
     ]
    }
   ],
   "source": [
    "ada = AdaBoostClassifier()\n",
    "\n",
    "prototipo(ada,X_train,y_train,X_test,y_test)"
   ]
  },
  {
   "cell_type": "markdown",
   "metadata": {
    "collapsed": false
   },
   "source": [
    "Naive bayes"
   ]
  },
  {
   "cell_type": "code",
   "execution_count": 103,
   "metadata": {
    "collapsed": false,
    "pycharm": {
     "name": "#%%\n"
    }
   },
   "outputs": [
    {
     "name": "stdout",
     "output_type": "stream",
     "text": [
      "[[1673 5324]\n",
      " [ 224 1779]]\n",
      "              precision    recall  f1-score   support\n",
      "\n",
      "           0       0.88      0.24      0.38      6997\n",
      "           1       0.25      0.89      0.39      2003\n",
      "\n",
      "    accuracy                           0.38      9000\n",
      "   macro avg       0.57      0.56      0.38      9000\n",
      "weighted avg       0.74      0.38      0.38      9000\n",
      "\n"
     ]
    },
    {
     "data": {
      "image/png": "[encoded data removed]",
      "text/plain": [
       "<Figure size 432x288 with 1 Axes>"
      ]
     },
     "metadata": {
      "needs_background": "light"
     },
     "output_type": "display_data"
    },
    {
     "name": "stdout",
     "output_type": "stream",
     "text": [
      "\n",
      "A acuracia média com dez dobras é de 37.71 % com erro padrão de  1.0 % \n",
      "\n",
      "\n",
      "A precisão média com dez dobras é de 24.71 % com erro padrão de  0.34 % \n",
      "\n",
      "\n",
      "A sensibilidade média com dez dobras é de 88.73 % com erro padrão de  1.39 % \n",
      "\n"
     ]
    }
   ],
   "source": [
    "naive = GaussianNB()\n",
    "\n",
    "prototipo(naive,X_train,y_train,X_test,y_test)"
   ]
  },
  {
   "cell_type": "markdown",
   "metadata": {
    "collapsed": false
   },
   "source": [
    "Análise discriminante quadrática"
   ]
  },
  {
   "cell_type": "code",
   "execution_count": 104,
   "metadata": {
    "collapsed": false,
    "pycharm": {
     "name": "#%%\n"
    }
   },
   "outputs": [
    {
     "name": "stdout",
     "output_type": "stream",
     "text": [
      "[[4869 2128]\n",
      " [ 652 1351]]\n",
      "              precision    recall  f1-score   support\n",
      "\n",
      "           0       0.88      0.70      0.78      6997\n",
      "           1       0.39      0.67      0.49      2003\n",
      "\n",
      "    accuracy                           0.69      9000\n",
      "   macro avg       0.64      0.69      0.64      9000\n",
      "weighted avg       0.77      0.69      0.71      9000\n",
      "\n"
     ]
    },
    {
     "data": {
      "image/png": "[encoded data removed]",
      "text/plain": [
       "<Figure size 432x288 with 1 Axes>"
      ]
     },
     "metadata": {
      "needs_background": "light"
     },
     "output_type": "display_data"
    },
    {
     "name": "stdout",
     "output_type": "stream",
     "text": [
      "\n",
      "A acuracia média com dez dobras é de 67.58 % com erro padrão de  1.95 % \n",
      "\n",
      "\n",
      "A precisão média com dez dobras é de 37.5 % com erro padrão de  1.61 % \n",
      "\n",
      "\n",
      "A sensibilidade média com dez dobras é de 69.17 % com erro padrão de  2.73 % \n",
      "\n"
     ]
    }
   ],
   "source": [
    "QDA=QuadraticDiscriminantAnalysis()\n",
    "\n",
    "prototipo(QDA,X_train,y_train,X_test,y_test)"
   ]
  },
  {
   "cell_type": "markdown",
   "metadata": {
    "collapsed": false
   },
   "source": [
    "Deep Learning"
   ]
  },
  {
   "cell_type": "code",
   "execution_count": 105,
   "metadata": {
    "collapsed": false,
    "pycharm": {
     "name": "#%%\n"
    }
   },
   "outputs": [
    {
     "name": "stdout",
     "output_type": "stream",
     "text": [
      "[[3916 3081]\n",
      " [ 799 1204]]\n",
      "              precision    recall  f1-score   support\n",
      "\n",
      "           0       0.83      0.56      0.67      6997\n",
      "           1       0.28      0.60      0.38      2003\n",
      "\n",
      "    accuracy                           0.57      9000\n",
      "   macro avg       0.56      0.58      0.53      9000\n",
      "weighted avg       0.71      0.57      0.61      9000\n",
      "\n"
     ]
    },
    {
     "data": {
      "image/png": "[encoded data removed]",
      "text/plain": [
       "<Figure size 432x288 with 1 Axes>"
      ]
     },
     "metadata": {
      "needs_background": "light"
     },
     "output_type": "display_data"
    },
    {
     "name": "stdout",
     "output_type": "stream",
     "text": [
      "\n",
      "A acuracia média com dez dobras é de 71.7 % com erro padrão de  7.42 % \n",
      "\n",
      "\n",
      "A precisão média com dez dobras é de 42.06 % com erro padrão de  9.77 % \n",
      "\n",
      "\n",
      "A sensibilidade média com dez dobras é de 34.45 % com erro padrão de  19.41 % \n",
      "\n"
     ]
    }
   ],
   "source": [
    "dl = MLPClassifier()\n",
    "\n",
    "prototipo(dl,X_train,y_train,X_test,y_test)"
   ]
  }
 ],
 "metadata": {
  "interpreter": {
   "hash": "01338af9fce1e2e9912f90efe1ec5baff3ea9965fd7046a76eae3d496bb0d75f"
  },
  "kernelspec": {
   "display_name": "Python 3.9.7 64-bit ('luiz_base': conda)",
   "name": "python3"
  },
  "language_info": {
   "codemirror_mode": {
    "name": "ipython",
    "version": 3
   },
   "file_extension": ".py",
   "mimetype": "text/x-python",
   "name": "python",
   "nbconvert_exporter": "python",
   "pygments_lexer": "ipython3",
   "version": "3.9.7"
  }
 },
 "nbformat": 4,
 "nbformat_minor": 0
}
